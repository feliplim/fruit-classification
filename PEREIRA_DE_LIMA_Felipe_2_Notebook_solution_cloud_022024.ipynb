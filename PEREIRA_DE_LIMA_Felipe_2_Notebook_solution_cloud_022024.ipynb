{
 "cells": [
  {
   "cell_type": "markdown",
   "metadata": {},
   "source": [
    "### 4. Solution deployment on the cloud environment\n",
    "\n",
    "Since the solution works, now it is time to deploy it on a larger scale on a real cluster of machines.\n",
    "\n",
    "**Attention:** this work was done using MacOS, the commands described below are therefore carried out exclusively in this environment.\n",
    "\n",
    "<u>Several constraints to take into account:</u>\n",
    "1. Which cloud provider to choose?\n",
    "2. Which solution from this provider to use?\n",
    "3. Where to store the data?\n",
    "4. How to set up the tools in this new environment?\n",
    "\n",
    "\n",
    "#### 4.1. Choice of cloud provider: Amazon Web Service (AWS)\n",
    "\n",
    "The best known service provider, which currently offers the broadest services in cloud computing is **Amazon Web Service**. Some of their services are perfectly adapted to this problem and that is why this provider is used.\n",
    "\n",
    "The primary objective is to be able to <u>rent computing power on demand</u>, using AWS. The idea is to be able to obtain enough computing power to be able to process the images, whatever the workload, even if the volume of data increases significantly.\n",
    "\n",
    "Additionally, the ability to use this computing power on demand allows to drastically reduce costs if one compares the costs of reting a complete server over a fixed period of time(e.g., 1 month, 1 year).\n",
    "\n",
    "#### 4.2. Choice of the technical solution: Elastic MapReduce (EMR)\n",
    "\n",
    "Several solutions are available: \n",
    "1. **IAAS** solution (Infrastructure As A Service)\n",
    "In this setup, AWS provides blank servers on which a administrator access is available. The servers are named EC2 instances. Simply put, with this solution, it is possible to reproduce the solution implemented locally. \n",
    "\n",
    "<u>All the tools are installed manually, then the following script is run: </u>\n",
    "- Installation of **Java**, **Spark**, etc.\n",
    "- Installation of **Python** (via Anaconda, for instance)\n",
    "- Installation of **Jupyter Notebook**\n",
    "- Installation of **additional libraries**\n",
    "- It will also be necessary to **ensure the installation the libraries needed for all machines (workers) in the cluster**\n",
    "\n",
    "- <u> Advantages: </u>\n",
    "    - Total freedom to implement the solution\n",
    "    - Easy to implement from a model that runs locally on a Linux machine\n",
    "- <u> Disadvantages: </u>\n",
    "    - Time-consuming\n",
    "    - Need to install and set up the entire solution\n",
    "    - Possible technical problems when installing the tools (problems that did not exist on the local machine may appear on th EC2 server)\n",
    "    - Non-sustainable solution over time, it will be necessary to ensure that the tools are updated and possibly having to reinstall Spark, Java, etc.\n",
    "\n",
    "2. **PAAS** solution (Platform As A Service)\n",
    "AWS provides a lot of different services. In one of these, there is an offer that allows to rent **EC2 instances** with pre-installed and set up applications: this is the **EMR service**.\n",
    "\n",
    "<u> EMR service present the follwing characteristics: </u>\n",
    "- Spark will already be installed\n",
    "- Possibility to request  the installation of **Tensorflow** as well as **JupyterHub**\n",
    "- Possibility to **additional packages** to install when initializing the server **on all machines in the cluster**\n",
    "\n",
    "- <u> Advantages: </u>\n",
    "    - Easy to implement\n",
    "        - It takes very little setup to get a perfectly functional environment\n",
    "    - Speed of implementation\n",
    "        - Once the first setup is completed, it is very easy and very fast to recreate the identical clusters which will be available almost instantly (the time to instantiate the servers - approximately 15/20 minutes)\n",
    "    - Hardware and software solutions optimized by AWS engineers\n",
    "        - It is known that the installed versions will work and that the proposed architecture is optimized\n",
    "    - Stability of the solution\n",
    "    - Scalable solution\n",
    "        - It is easy to obtain an up-to-date version of each new instatiation of each package, being guaranteed of their compatilibity with the rest of the environment\n",
    "    - Safer\n",
    "        - Any security patches will be automatically updated at each new instatiation of the EMR cluster\n",
    "- <u> Disadvantages: </u>\n",
    "    - Perhaps a certain lack of freedom on the version of the packages available? (It was not a problem in this project)\n",
    "    - Price?\n",
    "\n",
    "\n",
    "PAAS solution is the best/most appropriate solution for this problem, so it will be choosen to use Amazon Web Service **EMR services**. It is more suitable for this problem and it allows an implementation that is both faster and more efficient than IAAS solution.\n",
    "\n",
    "#### 4.3. Choice of data storage solution: Simple Storage Service (S3)\n",
    "\n",
    "<u>Amazon offers a very effective solution for data storage management</u>: **Amazon S3**. S3 for Amazon Simple Storage Service.\n",
    "\n",
    "It might be tempting to store our data on the space allocated by the **EC2** server, but if we do not take steps to then save it on another medium, <u>the data will be lost</u> when the server will be terminated (the server is terminated when it is not used for cost reasons). In fact, if you decide to use the disk space of the EC2 server you will have to come up with a solution to save the data before the server is terminated. In addition, we would be exposed to certain problems if our data were to **saturate** the available space on our servers (slowdowns, malfunctions).\n",
    "\n",
    "<u>Using **Amazon S3** allows you to overcome all these problems</u>. Available disk space is **unlimited**, and it is **independent of our EC2 servers**. Access to data is **very fast** because we stay in the AWS environment and we take care to <u>choose the same region for our **EC2** and **S3** servers</ u>.\n",
    "\n",
    "Additionally, as we will see <u>it is possible to access data on **S3** in the same way as **accessing data on a local disk**</u>. We will simply use a **PATH in the format s3://...** </u>.\n",
    "\n",
    "#### 4.4. Set up the working environment\n",
    "\n",
    "The first step is to install and configure [**AWS Cli**](https://aws.amazon.com/fr/cli/), this is the **command line interface** 'AWS**. It allows us to **interact with different AWS services**, like **S3** for example.\n",
    "\n",
    "To be able to use **AWS Cli**, you must configure it by first creating a user to whom you will give the authorizations you need. In this project the user must have at least total control over the S3 service.\n",
    "\n",
    "<u>Users and their rights are managed via the AWS **AMI**</u> service.\n",
    "\n",
    "Once the user has been created and its permissions configured, we create a **pair of keys** which will allow us to **connect without having to systematically enter our login/password**.\n",
    "\n",
    "We must also configure **SSH access** to our future EC2 servers. Here too, via a key system which frees us from having to authenticate ourselves \"by hand\" at each connection.\n",
    "\n",
    "All its configuration steps are perfectly described in the course of the project: [Perform distributed calculations on massive data / Discover Amazon Web Services](https://openclassrooms.com/fr/courses/4297166-realisez-des-calculs-distribues-sur-des-donnees-massives/4308686-decouvrez-amazon-web-services#/id/r-4355822)\n",
    "\n",
    "#### 4.5. Upload data to S3\n",
    "\n",
    "Our tools are configured. We now need to upload our working data to Amazon S3.\n",
    "\n",
    "Here too the steps are described precisely in the course [Carry out distributed calculations on massive data / Store data on S3](https://openclassrooms.com/fr/courses/4297166-realisez-des-calculs-distribues-sur-des-donnees-massives/4308691-stockez-des-donnees-sur-s3)\n",
    "\n",
    "I decide to only upload the data contained in the **Test** folder of the [project dataset](https://www.kaggle.com/moltean/fruits/download)\n",
    "\n",
    "\n",
    "The first step is to **create a bucket on S3** into which we will upload the project data:\n",
    "- **aws s3 mb s3://p8-data**\n",
    "\n",
    "We check that the bucket has been created\n",
    "- **aws s3 ls**\n",
    "  - If the bucket name is displayed then it has been correctly created.\n",
    "\n",
    "We then copy the contents of the \"**Test**\" folder into a \"**Test**\" directory on our \"**p8-data**\" bucket:\n",
    "1. We place ourselves inside the **Test** directory\n",
    "2. **aws sync. s3://p8-data/Test**\n",
    "\n",
    "The **sync** command is useful for synchronizing two directories.\n",
    "\n",
    "<u>Our project data is now available on Amazon S3</u>.\n",
    "\n",
    "#### 4.6. Set up EMR server\n",
    "\n",
    "Once again, the course [Perform distributed calculations on massive data / Deploy a distributed calculation cluster](https://openclassrooms.com/fr/courses/4297166-realisez-des-calculs-distribues-sur-des-donnees-massives/4308696-deployez-un-cluster-de-calculs-distribues) details the essential steps to launch a cluster with **EMR**.\n",
    "\n",
    "<u>I will detail here the specific steps that allow us to to configure the server according to our needs</u>:\n",
    "\n",
    "1. Click Create Cluster\n",
    "![Create a cluster](img/EMR_creer.png)\n",
    "2. Click Access advanced options\n",
    "![Create a cluster](img/EMR_options_avancees.png)\n",
    "\n",
    "##### 4.6.1. Step 1: Software and steps\n",
    "##### 4.6.1.1. Software setup \n",
    "\n",
    "<u>Select the packages we will need as in the screenshot</u>:\n",
    "1. We select the latest version of **EMR**, which is version **6.3.0** at the time of writing this document\n",
    "2. We obviously check **Hadoop** and **Spark** which will be pre-installed in their most recent version\n",
    "3. We will also need **TensorFlow** to import our model and carry out **transfer learning**\n",
    "4. We will finally work with a **Jupyter notebook** via the **JupyterHub** application - As we will see in a moment we will <u>configure the application so that the notebooks</u>, as the rest of our working data, <u>is saved directly on S3</u>.\n",
    "![Create a cluster](img/EMR_configuration_logiciels.png)\n",
    "\n",
    "##### 4.6.1.2. Change software parameters\n",
    "\n",
    "<u>Configure the persistence of notebooks created and opened via JupyterHub</u>:\n",
    "- At this stage we can make specific configuration requests on our applications. The objective is, as with the rest of our working data, to avoid all the problems mentioned above. This is the objective in this step, <u>we will save and open the notebooks</u> not on the disk space of the EC2 instance (as would be the case in the default configuration of JupyterHub) but <u>directly on **Amazon S3**</u>.\n",
    "- <u>two solutions are possible to achieve this</u>:\n",
    "  1. Create a **JSON configuration file** which we **upload to S3** and then indicate the path to the JSON file\n",
    "  2. Enter the configuration directly in JSON format\n",
    " \n",
    "I personally created a JSON file when creating my first EMR instance, then when we decide to clone our server to easily recreate an identical one, the configuration of the JSON file is directly copied as in the capture below.\n",
    "\n",
    "<u>Here is the content of my JSON file</u>:\n",
    "[{\"classification\":\"jupyter-s3-conf\",\"properties\":{\"s3.persistence.bucket\":\"p8-data\",\"s3.persistence.enabled\":\"true\"}}]\n",
    "![Change software settings](img/EMR_parametres_logiciel.png)\n",
    "\n",
    "##### 4.6.2. Step 2: Material\n",
    "At this step, leave the default choices. <u>The important thing here is the selection of our instances</u>:\n",
    "\n",
    "1. I choose **M5** type instances which are **balanced type instances**\n",
    "2. I choose the **xlarge** type which is the **least expensive instance available**\n",
    "[More information about Amazon EC2 M5 instances](https://aws.amazon.com/fr/ec2/instance-types/m5/)\n",
    "3. I select **1 Master instance** (the driver) and **2 Main instances** (the workers) for a total of 3 EC2 instances**.\n",
    "![Choice of material](img/EMR_materiel.png)\n",
    "\n",
    "##### 4.6.3. Step 3: Parameters of general cluster\n",
    "##### 4.6.3.1. General options\n",
    "\n",
    "<u>The first thing to do is to give the cluster a name</u>:\n",
    "\n",
    "![Cluster name](img/EMR_nom_cluster.png)\n",
    "\n",
    "##### 4.6.3.2. Bootstrapping actions\n",
    "\n",
    "We are going to this step **choose the missing packages to install** and which will be useful in the execution of our notebook <u>The advantage of carrying out this step now is that the installed packages will be installed on all of the machines in the cluster</u>.\n",
    "\n",
    "The procedure for creating the **bootstrap** file which contains all the instructions for installing all the packages we will need is explained in the course [Perform distributed calculations on massive data / Bootstrapping](https://openclassrooms.com/fr/courses/4297166-realisez-des-calculs-distribues-sur-des-donnees-massives/4308696-deployez-un-cluster-de-calculs-distribues#/id/r-4356490)\n",
    "\n",
    "We therefore create a file named \"**bootstrap-emr.sh**\" which we <u>upload to S3</u>(I install it at the root of my **bucket**) and we add it as shown in the screenshot below:\n",
    "![Bootstrapping actions](img/EMR_amorcage.png)\n",
    "\n",
    "Here is the content of the **bootstrap-emr.sh** file. As we can see it is simply a \"**pip install**\" command to **install the missing libraries** as done locally. Once again, <u>it is necessary to carry out these actions at this step</u> so that <u>the packages are installed on all the machines in the cluster</u> and not just on the driver, as would be the case if we executed these commands directly in the JupyterHub notebook or in the EMR console (connected to the driver).\n",
    "![Bootstrap file](img/EMR_bootstrap.png)\n",
    "\n",
    "**setuptools** and **pip** are updated to avoid a problem with the installation of the **pyarrow** package. **Pandas** received a major update (1.3.0) less than a week ago at the time of writing this notebook, and the new version of **Pandas** requires a higher version recent version of **Numpy** than the version installed by default (1.16.5) when initializing **EC2** instances. <u>It does not seem possible to impose another version of Numpy than the one installed by default</u> even if we force the installation of a recent version of **Numpy** (in any case, nor simply nor intuitively). The update being very recent <u>the version of **Numpy** is not yet updated on **EC2**</u> but we can imagine that this will be the case very quickly and it will not will no longer be necessary to impose a specific version of **Pandas**. In the meantime, I request <u>the installation of the penultimate version of **Pandas (1.2.5)**</u>\n",
    "\n",
    "##### 4.6.4. Step 4: Security\n",
    "##### 4.6.4.1. Security options\n",
    "\n",
    "A cette étape nous sélectionnons la **paire de clés EC2** créé précédemment. Elle nous permettra de se connecter en **ssh** à nos **instances EC2** sans avoir à entrer nos login/mot de passe. On laisse les autres paramètres par défaut.\n",
    "![EMR security](img/EMR_securite.png)\n",
    "\n",
    "##### 4.7. Server instantiation\n",
    "\n",
    "All we have to do now is wait for the server to be ready. <br />\n",
    "This step may take around **10 minutes**.\n",
    "\n",
    "<u>Several stages follow one another, we can see the last step of **EMR cluster**</u>:\n",
    "\n",
    "![Instanciation](img/EMR_instanciation.png)\n",
    "\n",
    "<u>When the status displays in green: \"**Waiting**\" this means that the instantiation was successful and that our server is ready to be used</u>.\n",
    "\n",
    "##### 4.8. Create the SSH tunnel to the EC2 instance (Primary)\n",
    "\n",
    "##### 4.8.1. Create permissions on incoming connections\n",
    "\n",
    "<u>We now want to be able to access our applications</u>:\n",
    "  - **JupyterHub** for running our notebook\n",
    "  - **Spark history server** for tracking the execution of our script's tasks when it is launched\n",
    " \n",
    "However, <u>these applications are only accessible from the driver's local network</u>, and to access them we must **create an SSH tunnel to the driver**.\n",
    "\n",
    "By default, this driver is located behind a firewall which blocks SSH access. <u>To open port 22 which corresponds to the port on which the SSH server listens, you must modify the **EC2 security group of the driver**</u>.\n",
    "\n",
    "This step is described in the course [Perform distributed calculations on massive data / Launching an application from the driver](https://openclassrooms.com/fr/courses/4297166-realisez-des-calculs-distribues-sur-des-donnees-massives/4308696-deployez-un-cluster-de-calculs-distribues#/id/r-4356512):\n",
    "\n",
    "*We will need to connect via SSH to the driver of our cluster. By default, this driver is located behind a firewall which blocks SSH access. To open port 22 which corresponds to the port on which the SSH server listens, you must modify the EC2 security group of the driver. On the EC2 console page, in the Network and Security tab, click Security Groups. You will need to modify the security group of ElasticMapReduce-Master. In the \"Incoming\" tab, add an SSH rule whose source is \"Anywhere\" (or \"My IP\" if you have a fixed IP address).*\n",
    "\n",
    "![Configuration autorisation ports entrants pour ssh](img/EMR_config_ssh_01.png)\n",
    "\n",
    "<u>Once this step is completed you should have a configuration similar to mine</u>:\n",
    "\n",
    "![Configuration ssh terminée](img/EMR_config_ssh_02.png)\n",
    "\n",
    "##### 4.8.2. Create the ssh tunnel to the Driver\n",
    "<u>We then retrieve the command provided by Amazon to **establish the SSH tunnel**</u>:\n",
    "\n",
    "![Récupérer la commande pour établir le tunnel ssh](img/EMR_tunnel_ssh.png)\n",
    "\n",
    "<u>In my case, the command does not work as</u> and I had to **adapt it to my configuration**. The **ssh key** is located in a folder \"**.ssh**\" itself located in my **personal directory** whose symbol is, under Linux, identified by a tilde \"**~** \".\n",
    "\n",
    "Having followed the course [Perform distributed calculations on massive data / Launch an application from the driver](https://openclassrooms.com/fr/courses/4297166-realisez-des-calculs-distribues-sur-des-donnees-massives) I chose to use port **5555** instead of **8157**, even though the choice is not very important. I also encountered a <u>compatibility problem</u> with the \"**-N**\" argument list of arguments and their meanings available [here](https://explainshell.com/explain?cmd=ssh+-L+-N+-f+-l+-D). I decided to just delete it.\n",
    "\n",
    "<u>Finally, I use the following command in a terminal to establish my ssh tunnel (only the URL changes from one instance to another)</u>.\n",
    "\n",
    "<u>We enter \"**yes**\" to validate the connection and if the connection is established we obtain the following result</u>.\n",
    "\n",
    "![Création du tunnel SSH](img/EMR_connexion_ssh_01.png)\n",
    "\n",
    "We have **correctly established the ssh tunnel with the driver** on port \"5555\".\n",
    "\n",
    "##### 4.8.3. FoxyProxy setup\n",
    "\n",
    "A final step is necessary to access our applications, by asking our browser to use the ssh tunnel. I use **FoxyProxy** for this.\n",
    "[Again, you can use the course to configure it](https://openclassrooms.com/fr/courses/4297166-realisez-des-calculs-distribues-sur-des-donnees-massives/4308701-realisez-la-maintenance-dun-cluster#/id/r-4356554).\n",
    "\n",
    "Otherwise, open the **FoxyProxy** configuration and <u>click on **Add**</u> at the top left then fill in the elements as in the screenshot below:\n",
    "![Configuration FoxyProxy Etape 1](img/EMR_foxyproxy_config_01.png)\n",
    "\n",
    "##### 4.8.4. Access to EMR server applications via SSH tunnel\n",
    "\n",
    "<u>We activate the **ssh tunnel** as seen previously then we ask our browser to use it with **FoxyProxy**</u>:\n",
    "\n",
    "![FoxyProxy activation](img/EMR_foxyproxy_activation.png)\n",
    "\n",
    "##### 4.9. Connect to JupyterHub notebook\n",
    "\n",
    "To connect to **JupyterHub** in order to run our **notebook**, you must start by <u>clicking on the **JupyterHub**</u> application that appeared since we configured the * *ssh tunnel** and **foxyproxy** on our browser (refresh the page if this is not the case).\n",
    "\n",
    "![Démarrage de JupyterHub](img/EMR_jupyterhub_connexion_01.png)\n",
    "\n",
    "We go through any security warnings then arrive at a login page.\n",
    "    \n",
    "<u>We connect with the default information</u>:\n",
    "  - <u>login</u>: **jovyan**\n",
    "  - <u>password</u>: **jupyter**\n",
    "\n",
    "![Connexion à JupyterHub](img/EMR_jupyterhub_connexion_02.png)\n",
    "\n",
    "We then arrive at a blank notebook folder. Simply create one by clicking on \"**New**\" at the top right.\n",
    "\n",
    "![Liste et création des notebook](img/EMR_jupyterhub_creer_notebooks.png)\n",
    "\n",
    "It is also possible to <u>upload one directly to our **S3 bucket**</u>.\n",
    "\n",
    "Thanks to the <u>**persistence** configured at cluster instantiation, we are currently in the tree of our **S3 bucket**</u>\n",
    "\n",
    "![Notebook stockés sur S3](img/EMR_jupyterhub_S3.png)\n",
    "\n",
    "I decide to **import a notebook already written locally directly to S3** and I open it from **the JupyterHub interface**.\n",
    "\n",
    "##### 4.10. Code execution\n",
    "\n",
    "I decide to run this part of the code from **JupyterHub hosted on our EMR cluster**. To avoid unnecessarily burdening the explanations in the **notebook**, I will not re-explain the common steps that we have already seen in the first part where we executed the code locally.\n",
    "\n",
    "<u>Before you begin</u>, you must make sure to use the **pyspark kernel**.\n",
    "\n",
    "**Using this kernel, a spark session is created at the execution of the first cell**. It is therefore no longer necessary to execute the code \"spark = (SparkSession ...\"** as when running our notebook locally."
   ]
  },
  {
   "cell_type": "markdown",
   "metadata": {},
   "source": [
    "##### 4.10.1. Start Spark session"
   ]
  },
  {
   "cell_type": "code",
   "execution_count": 1,
   "metadata": {},
   "outputs": [
    {
     "name": "stdout",
     "output_type": "stream",
     "text": [
      "Starting Spark application\n"
     ]
    },
    {
     "data": {
      "text/html": [
       "<table>\n",
       "<tr><th>ID</th><th>YARN Application ID</th><th>Kind</th><th>State</th><th>Spark UI</th><th>Driver log</th><th>User</th><th>Current session?</th></tr><tr><td>0</td><td>application_1707907462196_0001</td><td>pyspark</td><td>idle</td><td><a target=\"_blank\" href=\"http://ip-10-0-5-197.eu-west-3.compute.internal:20888/proxy/application_1707907462196_0001/\">Link</a></td><td><a target=\"_blank\" href=\"http://ip-10-0-14-21.eu-west-3.compute.internal:8042/node/containerlogs/container_1707907462196_0001_01_000001/livy\">Link</a></td><td>None</td><td>✔</td></tr></table>"
      ],
      "text/plain": [
       "<IPython.core.display.HTML object>"
      ]
     },
     "metadata": {},
     "output_type": "display_data"
    },
    {
     "data": {
      "application/vnd.jupyter.widget-view+json": {
       "model_id": "",
       "version_major": 2,
       "version_minor": 0
      },
      "text/plain": [
       "FloatProgress(value=0.0, bar_style='info', description='Progress:', layout=Layout(height='25px', width='50%'),…"
      ]
     },
     "metadata": {},
     "output_type": "display_data"
    },
    {
     "name": "stdout",
     "output_type": "stream",
     "text": [
      "SparkSession available as 'spark'.\n"
     ]
    },
    {
     "data": {
      "application/vnd.jupyter.widget-view+json": {
       "model_id": "",
       "version_major": 2,
       "version_minor": 0
      },
      "text/plain": [
       "FloatProgress(value=0.0, bar_style='info', description='Progress:', layout=Layout(height='25px', width='50%'),…"
      ]
     },
     "metadata": {},
     "output_type": "display_data"
    }
   ],
   "source": [
    "# Running this cell will start Spark application"
   ]
  },
  {
   "cell_type": "markdown",
   "metadata": {},
   "source": [
    "<u> Display current session information and links to Spark: </u>"
   ]
  },
  {
   "cell_type": "code",
   "execution_count": 2,
   "metadata": {},
   "outputs": [
    {
     "data": {
      "text/html": [
       "Current session configs: <tt>{'driverMemory': '1000M', 'executorCores': 2, 'proxyUser': 'jovyan', 'kind': 'pyspark'}</tt><br>"
      ],
      "text/plain": [
       "<IPython.core.display.HTML object>"
      ]
     },
     "metadata": {},
     "output_type": "display_data"
    },
    {
     "data": {
      "text/html": [
       "<table>\n",
       "<tr><th>ID</th><th>YARN Application ID</th><th>Kind</th><th>State</th><th>Spark UI</th><th>Driver log</th><th>User</th><th>Current session?</th></tr><tr><td>0</td><td>application_1707907462196_0001</td><td>pyspark</td><td>idle</td><td><a target=\"_blank\" href=\"http://ip-10-0-5-197.eu-west-3.compute.internal:20888/proxy/application_1707907462196_0001/\">Link</a></td><td><a target=\"_blank\" href=\"http://ip-10-0-14-21.eu-west-3.compute.internal:8042/node/containerlogs/container_1707907462196_0001_01_000001/livy\">Link</a></td><td>None</td><td>✔</td></tr></table>"
      ],
      "text/plain": [
       "<IPython.core.display.HTML object>"
      ]
     },
     "metadata": {},
     "output_type": "display_data"
    }
   ],
   "source": [
    "%%info"
   ]
  },
  {
   "cell_type": "markdown",
   "metadata": {},
   "source": [
    "##### 4.10.2. Install additional packages"
   ]
  },
  {
   "cell_type": "markdown",
   "metadata": {},
   "source": [
    "The additional packages were installed via the **bootstrap** step when instantiating the server. \n",
    "\n",
    "Check the bootstrap file: bootstrap-emr.sh"
   ]
  },
  {
   "cell_type": "markdown",
   "metadata": {},
   "source": [
    "##### 4.10.3. Import libraries"
   ]
  },
  {
   "cell_type": "code",
   "execution_count": 3,
   "metadata": {},
   "outputs": [
    {
     "data": {
      "application/vnd.jupyter.widget-view+json": {
       "model_id": "",
       "version_major": 2,
       "version_minor": 0
      },
      "text/plain": [
       "FloatProgress(value=0.0, bar_style='info', description='Progress:', layout=Layout(height='25px', width='50%'),…"
      ]
     },
     "metadata": {},
     "output_type": "display_data"
    }
   ],
   "source": [
    "# General \n",
    "import os\n",
    "import io\n",
    "\n",
    "# Data handling\n",
    "import pandas   as pd\n",
    "import numpy    as np\n",
    "\n",
    "# Image processing\n",
    "import tensorflow   as tf\n",
    "from PIL            import Image\n",
    "from tensorflow.keras.applications.mobilenet_v2 import MobileNetV2, preprocess_input\n",
    "from tensorflow.keras.preprocessing.image       import img_to_array\n",
    "from tensorflow.keras                           import Model\n",
    "\n",
    "# Big data\n",
    "from pyspark.sql            import SparkSession\n",
    "from pyspark.sql.functions  import col, pandas_udf, PandasUDFType, element_at, split\n",
    "from pyspark.ml.feature     import PCA\n",
    "from pyspark.sql.functions  import udf\n",
    "from pyspark.ml.linalg      import Vectors, VectorUDT"
   ]
  },
  {
   "cell_type": "markdown",
   "metadata": {},
   "source": [
    "##### 4.10.4. Set PATH to load images and save results\n",
    "\n",
    "We directly access to the **data on S3** as if they were **stored locally**."
   ]
  },
  {
   "cell_type": "code",
   "execution_count": 4,
   "metadata": {},
   "outputs": [
    {
     "data": {
      "application/vnd.jupyter.widget-view+json": {
       "model_id": "",
       "version_major": 2,
       "version_minor": 0
      },
      "text/plain": [
       "FloatProgress(value=0.0, bar_style='info', description='Progress:', layout=Layout(height='25px', width='50%'),…"
      ]
     },
     "metadata": {},
     "output_type": "display_data"
    },
    {
     "name": "stdout",
     "output_type": "stream",
     "text": [
      "PATH:        s3://openclassrooms-p8-fruits-data\n",
      "PATH_Data:   s3://openclassrooms-p8-fruits-data/data/test\n",
      "PATH_Result: s3://openclassrooms-p8-fruits-data/data/results"
     ]
    }
   ],
   "source": [
    "PATH = 's3://openclassrooms-p8-fruits-data'\n",
    "PATH_Data = PATH+'/data/test'\n",
    "PATH_Result = PATH+'/data/results'\n",
    "print('PATH:        '+\\\n",
    "      PATH+'\\nPATH_Data:   '+\\\n",
    "      PATH_Data+'\\nPATH_Result: '+PATH_Result)"
   ]
  },
  {
   "cell_type": "markdown",
   "metadata": {},
   "source": [
    "##### 4.10.5. Data processing"
   ]
  },
  {
   "cell_type": "markdown",
   "metadata": {},
   "source": [
    "##### 4.10.5.1. Load data"
   ]
  },
  {
   "cell_type": "code",
   "execution_count": 5,
   "metadata": {},
   "outputs": [
    {
     "data": {
      "application/vnd.jupyter.widget-view+json": {
       "model_id": "",
       "version_major": 2,
       "version_minor": 0
      },
      "text/plain": [
       "FloatProgress(value=0.0, bar_style='info', description='Progress:', layout=Layout(height='25px', width='50%'),…"
      ]
     },
     "metadata": {},
     "output_type": "display_data"
    }
   ],
   "source": [
    "images = spark.read.format(\"binaryFile\") \\\n",
    "  .option(\"pathGlobFilter\", \"*.jpg\") \\\n",
    "  .option(\"recursiveFileLookup\", \"true\") \\\n",
    "  .load(PATH_Data)"
   ]
  },
  {
   "cell_type": "code",
   "execution_count": 6,
   "metadata": {},
   "outputs": [
    {
     "data": {
      "application/vnd.jupyter.widget-view+json": {
       "model_id": "",
       "version_major": 2,
       "version_minor": 0
      },
      "text/plain": [
       "FloatProgress(value=0.0, bar_style='info', description='Progress:', layout=Layout(height='25px', width='50%'),…"
      ]
     },
     "metadata": {},
     "output_type": "display_data"
    },
    {
     "name": "stdout",
     "output_type": "stream",
     "text": [
      "+--------------------+-------------------+------+--------------------+\n",
      "|                path|   modificationTime|length|             content|\n",
      "+--------------------+-------------------+------+--------------------+\n",
      "|s3://openclassroo...|2024-02-14 09:41:46|  7353|[FF D8 FF E0 00 1...|\n",
      "|s3://openclassroo...|2024-02-14 09:41:46|  7350|[FF D8 FF E0 00 1...|\n",
      "|s3://openclassroo...|2024-02-14 09:41:46|  7349|[FF D8 FF E0 00 1...|\n",
      "|s3://openclassroo...|2024-02-14 09:41:46|  7348|[FF D8 FF E0 00 1...|\n",
      "|s3://openclassroo...|2024-02-14 09:41:47|  7328|[FF D8 FF E0 00 1...|\n",
      "+--------------------+-------------------+------+--------------------+\n",
      "only showing top 5 rows"
     ]
    }
   ],
   "source": [
    "images.show(5)"
   ]
  },
  {
   "cell_type": "markdown",
   "metadata": {},
   "source": [
    "Only the image path is kept and a column containing the labels is added."
   ]
  },
  {
   "cell_type": "code",
   "execution_count": 7,
   "metadata": {},
   "outputs": [
    {
     "data": {
      "application/vnd.jupyter.widget-view+json": {
       "model_id": "",
       "version_major": 2,
       "version_minor": 0
      },
      "text/plain": [
       "FloatProgress(value=0.0, bar_style='info', description='Progress:', layout=Layout(height='25px', width='50%'),…"
      ]
     },
     "metadata": {},
     "output_type": "display_data"
    },
    {
     "name": "stdout",
     "output_type": "stream",
     "text": [
      "root\n",
      " |-- path: string (nullable = true)\n",
      " |-- modificationTime: timestamp (nullable = true)\n",
      " |-- length: long (nullable = true)\n",
      " |-- content: binary (nullable = true)\n",
      " |-- label: string (nullable = true)\n",
      "\n",
      "None\n",
      "+---------------------------------------------------------------------+----------+\n",
      "|path                                                                 |label     |\n",
      "+---------------------------------------------------------------------+----------+\n",
      "|s3://openclassrooms-p8-fruits-data/data/test/Watermelon/r_106_100.jpg|Watermelon|\n",
      "|s3://openclassrooms-p8-fruits-data/data/test/Watermelon/r_109_100.jpg|Watermelon|\n",
      "|s3://openclassrooms-p8-fruits-data/data/test/Watermelon/r_108_100.jpg|Watermelon|\n",
      "|s3://openclassrooms-p8-fruits-data/data/test/Watermelon/r_107_100.jpg|Watermelon|\n",
      "|s3://openclassrooms-p8-fruits-data/data/test/Watermelon/r_95_100.jpg |Watermelon|\n",
      "+---------------------------------------------------------------------+----------+\n",
      "only showing top 5 rows\n",
      "\n",
      "None"
     ]
    }
   ],
   "source": [
    "images = images.withColumn('label', element_at(split(images['path'], '/'),-2))\n",
    "print(images.printSchema())\n",
    "print(images.select('path','label').show(5,False))"
   ]
  },
  {
   "cell_type": "markdown",
   "metadata": {},
   "source": [
    "##### 4.10.5.2. Model preparation"
   ]
  },
  {
   "cell_type": "code",
   "execution_count": 8,
   "metadata": {},
   "outputs": [
    {
     "data": {
      "application/vnd.jupyter.widget-view+json": {
       "model_id": "",
       "version_major": 2,
       "version_minor": 0
      },
      "text/plain": [
       "FloatProgress(value=0.0, bar_style='info', description='Progress:', layout=Layout(height='25px', width='50%'),…"
      ]
     },
     "metadata": {},
     "output_type": "display_data"
    },
    {
     "name": "stdout",
     "output_type": "stream",
     "text": [
      "Downloading data from https://storage.googleapis.com/tensorflow/keras-applications/mobilenet_v2/mobilenet_v2_weights_tf_dim_ordering_tf_kernels_1.0_224.h5\n",
      "14540800/14536120 [==============================] - 1s 0us/step"
     ]
    }
   ],
   "source": [
    "model = MobileNetV2(weights='imagenet',\n",
    "                    include_top=True,\n",
    "                    input_shape=(224, 224, 3))"
   ]
  },
  {
   "cell_type": "code",
   "execution_count": 9,
   "metadata": {},
   "outputs": [
    {
     "data": {
      "application/vnd.jupyter.widget-view+json": {
       "model_id": "",
       "version_major": 2,
       "version_minor": 0
      },
      "text/plain": [
       "FloatProgress(value=0.0, bar_style='info', description='Progress:', layout=Layout(height='25px', width='50%'),…"
      ]
     },
     "metadata": {},
     "output_type": "display_data"
    }
   ],
   "source": [
    "new_model = Model(inputs=model.input,\n",
    "                  outputs=model.layers[-2].output)"
   ]
  },
  {
   "cell_type": "code",
   "execution_count": 10,
   "metadata": {},
   "outputs": [
    {
     "data": {
      "application/vnd.jupyter.widget-view+json": {
       "model_id": "",
       "version_major": 2,
       "version_minor": 0
      },
      "text/plain": [
       "FloatProgress(value=0.0, bar_style='info', description='Progress:', layout=Layout(height='25px', width='50%'),…"
      ]
     },
     "metadata": {},
     "output_type": "display_data"
    }
   ],
   "source": [
    "brodcast_weights = sc.broadcast(new_model.get_weights())"
   ]
  },
  {
   "cell_type": "code",
   "execution_count": 11,
   "metadata": {},
   "outputs": [
    {
     "data": {
      "application/vnd.jupyter.widget-view+json": {
       "model_id": "",
       "version_major": 2,
       "version_minor": 0
      },
      "text/plain": [
       "FloatProgress(value=0.0, bar_style='info', description='Progress:', layout=Layout(height='25px', width='50%'),…"
      ]
     },
     "metadata": {},
     "output_type": "display_data"
    },
    {
     "name": "stdout",
     "output_type": "stream",
     "text": [
      "Model: \"model\"\n",
      "__________________________________________________________________________________________________\n",
      "Layer (type)                    Output Shape         Param #     Connected to                     \n",
      "==================================================================================================\n",
      "input_1 (InputLayer)            [(None, 224, 224, 3) 0                                            \n",
      "__________________________________________________________________________________________________\n",
      "Conv1 (Conv2D)                  (None, 112, 112, 32) 864         input_1[0][0]                    \n",
      "__________________________________________________________________________________________________\n",
      "bn_Conv1 (BatchNormalization)   (None, 112, 112, 32) 128         Conv1[0][0]                      \n",
      "__________________________________________________________________________________________________\n",
      "Conv1_relu (ReLU)               (None, 112, 112, 32) 0           bn_Conv1[0][0]                   \n",
      "__________________________________________________________________________________________________\n",
      "expanded_conv_depthwise (Depthw (None, 112, 112, 32) 288         Conv1_relu[0][0]                 \n",
      "__________________________________________________________________________________________________\n",
      "expanded_conv_depthwise_BN (Bat (None, 112, 112, 32) 128         expanded_conv_depthwise[0][0]    \n",
      "__________________________________________________________________________________________________\n",
      "expanded_conv_depthwise_relu (R (None, 112, 112, 32) 0           expanded_conv_depthwise_BN[0][0] \n",
      "__________________________________________________________________________________________________\n",
      "expanded_conv_project (Conv2D)  (None, 112, 112, 16) 512         expanded_conv_depthwise_relu[0][0\n",
      "__________________________________________________________________________________________________\n",
      "expanded_conv_project_BN (Batch (None, 112, 112, 16) 64          expanded_conv_project[0][0]      \n",
      "__________________________________________________________________________________________________\n",
      "block_1_expand (Conv2D)         (None, 112, 112, 96) 1536        expanded_conv_project_BN[0][0]   \n",
      "__________________________________________________________________________________________________\n",
      "block_1_expand_BN (BatchNormali (None, 112, 112, 96) 384         block_1_expand[0][0]             \n",
      "__________________________________________________________________________________________________\n",
      "block_1_expand_relu (ReLU)      (None, 112, 112, 96) 0           block_1_expand_BN[0][0]          \n",
      "__________________________________________________________________________________________________\n",
      "block_1_pad (ZeroPadding2D)     (None, 113, 113, 96) 0           block_1_expand_relu[0][0]        \n",
      "__________________________________________________________________________________________________\n",
      "block_1_depthwise (DepthwiseCon (None, 56, 56, 96)   864         block_1_pad[0][0]                \n",
      "__________________________________________________________________________________________________\n",
      "block_1_depthwise_BN (BatchNorm (None, 56, 56, 96)   384         block_1_depthwise[0][0]          \n",
      "__________________________________________________________________________________________________\n",
      "block_1_depthwise_relu (ReLU)   (None, 56, 56, 96)   0           block_1_depthwise_BN[0][0]       \n",
      "__________________________________________________________________________________________________\n",
      "block_1_project (Conv2D)        (None, 56, 56, 24)   2304        block_1_depthwise_relu[0][0]     \n",
      "__________________________________________________________________________________________________\n",
      "block_1_project_BN (BatchNormal (None, 56, 56, 24)   96          block_1_project[0][0]            \n",
      "__________________________________________________________________________________________________\n",
      "block_2_expand (Conv2D)         (None, 56, 56, 144)  3456        block_1_project_BN[0][0]         \n",
      "__________________________________________________________________________________________________\n",
      "block_2_expand_BN (BatchNormali (None, 56, 56, 144)  576         block_2_expand[0][0]             \n",
      "__________________________________________________________________________________________________\n",
      "block_2_expand_relu (ReLU)      (None, 56, 56, 144)  0           block_2_expand_BN[0][0]          \n",
      "__________________________________________________________________________________________________\n",
      "block_2_depthwise (DepthwiseCon (None, 56, 56, 144)  1296        block_2_expand_relu[0][0]        \n",
      "__________________________________________________________________________________________________\n",
      "block_2_depthwise_BN (BatchNorm (None, 56, 56, 144)  576         block_2_depthwise[0][0]          \n",
      "__________________________________________________________________________________________________\n",
      "block_2_depthwise_relu (ReLU)   (None, 56, 56, 144)  0           block_2_depthwise_BN[0][0]       \n",
      "__________________________________________________________________________________________________\n",
      "block_2_project (Conv2D)        (None, 56, 56, 24)   3456        block_2_depthwise_relu[0][0]     \n",
      "__________________________________________________________________________________________________\n",
      "block_2_project_BN (BatchNormal (None, 56, 56, 24)   96          block_2_project[0][0]            \n",
      "__________________________________________________________________________________________________\n",
      "block_2_add (Add)               (None, 56, 56, 24)   0           block_1_project_BN[0][0]         \n",
      "                                                                 block_2_project_BN[0][0]         \n",
      "__________________________________________________________________________________________________\n",
      "block_3_expand (Conv2D)         (None, 56, 56, 144)  3456        block_2_add[0][0]                \n",
      "__________________________________________________________________________________________________\n",
      "block_3_expand_BN (BatchNormali (None, 56, 56, 144)  576         block_3_expand[0][0]             \n",
      "__________________________________________________________________________________________________\n",
      "block_3_expand_relu (ReLU)      (None, 56, 56, 144)  0           block_3_expand_BN[0][0]          \n",
      "__________________________________________________________________________________________________\n",
      "block_3_pad (ZeroPadding2D)     (None, 57, 57, 144)  0           block_3_expand_relu[0][0]        \n",
      "__________________________________________________________________________________________________\n",
      "block_3_depthwise (DepthwiseCon (None, 28, 28, 144)  1296        block_3_pad[0][0]                \n",
      "__________________________________________________________________________________________________\n",
      "block_3_depthwise_BN (BatchNorm (None, 28, 28, 144)  576         block_3_depthwise[0][0]          \n",
      "__________________________________________________________________________________________________\n",
      "block_3_depthwise_relu (ReLU)   (None, 28, 28, 144)  0           block_3_depthwise_BN[0][0]       \n",
      "__________________________________________________________________________________________________\n",
      "block_3_project (Conv2D)        (None, 28, 28, 32)   4608        block_3_depthwise_relu[0][0]     \n",
      "__________________________________________________________________________________________________\n",
      "block_3_project_BN (BatchNormal (None, 28, 28, 32)   128         block_3_project[0][0]            \n",
      "__________________________________________________________________________________________________\n",
      "block_4_expand (Conv2D)         (None, 28, 28, 192)  6144        block_3_project_BN[0][0]         \n",
      "__________________________________________________________________________________________________\n",
      "block_4_expand_BN (BatchNormali (None, 28, 28, 192)  768         block_4_expand[0][0]             \n",
      "__________________________________________________________________________________________________\n",
      "block_4_expand_relu (ReLU)      (None, 28, 28, 192)  0           block_4_expand_BN[0][0]          \n",
      "__________________________________________________________________________________________________\n",
      "block_4_depthwise (DepthwiseCon (None, 28, 28, 192)  1728        block_4_expand_relu[0][0]        \n",
      "__________________________________________________________________________________________________\n",
      "block_4_depthwise_BN (BatchNorm (None, 28, 28, 192)  768         block_4_depthwise[0][0]          \n",
      "__________________________________________________________________________________________________\n",
      "block_4_depthwise_relu (ReLU)   (None, 28, 28, 192)  0           block_4_depthwise_BN[0][0]       \n",
      "__________________________________________________________________________________________________\n",
      "block_4_project (Conv2D)        (None, 28, 28, 32)   6144        block_4_depthwise_relu[0][0]     \n",
      "__________________________________________________________________________________________________\n",
      "block_4_project_BN (BatchNormal (None, 28, 28, 32)   128         block_4_project[0][0]            \n",
      "__________________________________________________________________________________________________\n",
      "block_4_add (Add)               (None, 28, 28, 32)   0           block_3_project_BN[0][0]         \n",
      "                                                                 block_4_project_BN[0][0]         \n",
      "__________________________________________________________________________________________________\n",
      "block_5_expand (Conv2D)         (None, 28, 28, 192)  6144        block_4_add[0][0]                \n",
      "__________________________________________________________________________________________________\n",
      "block_5_expand_BN (BatchNormali (None, 28, 28, 192)  768         block_5_expand[0][0]             \n",
      "__________________________________________________________________________________________________\n",
      "block_5_expand_relu (ReLU)      (None, 28, 28, 192)  0           block_5_expand_BN[0][0]          \n",
      "__________________________________________________________________________________________________\n",
      "block_5_depthwise (DepthwiseCon (None, 28, 28, 192)  1728        block_5_expand_relu[0][0]        \n",
      "__________________________________________________________________________________________________\n",
      "block_5_depthwise_BN (BatchNorm (None, 28, 28, 192)  768         block_5_depthwise[0][0]          \n",
      "__________________________________________________________________________________________________\n",
      "block_5_depthwise_relu (ReLU)   (None, 28, 28, 192)  0           block_5_depthwise_BN[0][0]       \n",
      "__________________________________________________________________________________________________\n",
      "block_5_project (Conv2D)        (None, 28, 28, 32)   6144        block_5_depthwise_relu[0][0]     \n",
      "__________________________________________________________________________________________________\n",
      "block_5_project_BN (BatchNormal (None, 28, 28, 32)   128         block_5_project[0][0]            \n",
      "__________________________________________________________________________________________________\n",
      "block_5_add (Add)               (None, 28, 28, 32)   0           block_4_add[0][0]                \n",
      "                                                                 block_5_project_BN[0][0]         \n",
      "__________________________________________________________________________________________________\n",
      "block_6_expand (Conv2D)         (None, 28, 28, 192)  6144        block_5_add[0][0]                \n",
      "__________________________________________________________________________________________________\n",
      "block_6_expand_BN (BatchNormali (None, 28, 28, 192)  768         block_6_expand[0][0]             \n",
      "__________________________________________________________________________________________________\n",
      "block_6_expand_relu (ReLU)      (None, 28, 28, 192)  0           block_6_expand_BN[0][0]          \n",
      "__________________________________________________________________________________________________\n",
      "block_6_pad (ZeroPadding2D)     (None, 29, 29, 192)  0           block_6_expand_relu[0][0]        \n",
      "__________________________________________________________________________________________________\n",
      "block_6_depthwise (DepthwiseCon (None, 14, 14, 192)  1728        block_6_pad[0][0]                \n",
      "__________________________________________________________________________________________________\n",
      "block_6_depthwise_BN (BatchNorm (None, 14, 14, 192)  768         block_6_depthwise[0][0]          \n",
      "__________________________________________________________________________________________________\n",
      "block_6_depthwise_relu (ReLU)   (None, 14, 14, 192)  0           block_6_depthwise_BN[0][0]       \n",
      "__________________________________________________________________________________________________\n",
      "block_6_project (Conv2D)        (None, 14, 14, 64)   12288       block_6_depthwise_relu[0][0]     \n",
      "__________________________________________________________________________________________________\n",
      "block_6_project_BN (BatchNormal (None, 14, 14, 64)   256         block_6_project[0][0]            \n",
      "__________________________________________________________________________________________________\n",
      "block_7_expand (Conv2D)         (None, 14, 14, 384)  24576       block_6_project_BN[0][0]         \n",
      "__________________________________________________________________________________________________\n",
      "block_7_expand_BN (BatchNormali (None, 14, 14, 384)  1536        block_7_expand[0][0]             \n",
      "__________________________________________________________________________________________________\n",
      "block_7_expand_relu (ReLU)      (None, 14, 14, 384)  0           block_7_expand_BN[0][0]          \n",
      "__________________________________________________________________________________________________\n",
      "block_7_depthwise (DepthwiseCon (None, 14, 14, 384)  3456        block_7_expand_relu[0][0]        \n",
      "__________________________________________________________________________________________________\n",
      "block_7_depthwise_BN (BatchNorm (None, 14, 14, 384)  1536        block_7_depthwise[0][0]          \n",
      "__________________________________________________________________________________________________\n",
      "block_7_depthwise_relu (ReLU)   (None, 14, 14, 384)  0           block_7_depthwise_BN[0][0]       \n",
      "__________________________________________________________________________________________________\n",
      "block_7_project (Conv2D)        (None, 14, 14, 64)   24576       block_7_depthwise_relu[0][0]     \n",
      "__________________________________________________________________________________________________\n",
      "block_7_project_BN (BatchNormal (None, 14, 14, 64)   256         block_7_project[0][0]            \n",
      "__________________________________________________________________________________________________\n",
      "block_7_add (Add)               (None, 14, 14, 64)   0           block_6_project_BN[0][0]         \n",
      "                                                                 block_7_project_BN[0][0]         \n",
      "__________________________________________________________________________________________________\n",
      "block_8_expand (Conv2D)         (None, 14, 14, 384)  24576       block_7_add[0][0]                \n",
      "__________________________________________________________________________________________________\n",
      "block_8_expand_BN (BatchNormali (None, 14, 14, 384)  1536        block_8_expand[0][0]             \n",
      "__________________________________________________________________________________________________\n",
      "block_8_expand_relu (ReLU)      (None, 14, 14, 384)  0           block_8_expand_BN[0][0]          \n",
      "__________________________________________________________________________________________________\n",
      "block_8_depthwise (DepthwiseCon (None, 14, 14, 384)  3456        block_8_expand_relu[0][0]        \n",
      "__________________________________________________________________________________________________\n",
      "block_8_depthwise_BN (BatchNorm (None, 14, 14, 384)  1536        block_8_depthwise[0][0]          \n",
      "__________________________________________________________________________________________________\n",
      "block_8_depthwise_relu (ReLU)   (None, 14, 14, 384)  0           block_8_depthwise_BN[0][0]       \n",
      "__________________________________________________________________________________________________\n",
      "block_8_project (Conv2D)        (None, 14, 14, 64)   24576       block_8_depthwise_relu[0][0]     \n",
      "__________________________________________________________________________________________________\n",
      "block_8_project_BN (BatchNormal (None, 14, 14, 64)   256         block_8_project[0][0]            \n",
      "__________________________________________________________________________________________________\n",
      "block_8_add (Add)               (None, 14, 14, 64)   0           block_7_add[0][0]                \n",
      "                                                                 block_8_project_BN[0][0]         \n",
      "__________________________________________________________________________________________________\n",
      "block_9_expand (Conv2D)         (None, 14, 14, 384)  24576       block_8_add[0][0]                \n",
      "__________________________________________________________________________________________________\n",
      "block_9_expand_BN (BatchNormali (None, 14, 14, 384)  1536        block_9_expand[0][0]             \n",
      "__________________________________________________________________________________________________\n",
      "block_9_expand_relu (ReLU)      (None, 14, 14, 384)  0           block_9_expand_BN[0][0]          \n",
      "__________________________________________________________________________________________________\n",
      "block_9_depthwise (DepthwiseCon (None, 14, 14, 384)  3456        block_9_expand_relu[0][0]        \n",
      "__________________________________________________________________________________________________\n",
      "block_9_depthwise_BN (BatchNorm (None, 14, 14, 384)  1536        block_9_depthwise[0][0]          \n",
      "__________________________________________________________________________________________________\n",
      "block_9_depthwise_relu (ReLU)   (None, 14, 14, 384)  0           block_9_depthwise_BN[0][0]       \n",
      "__________________________________________________________________________________________________\n",
      "block_9_project (Conv2D)        (None, 14, 14, 64)   24576       block_9_depthwise_relu[0][0]     \n",
      "__________________________________________________________________________________________________\n",
      "block_9_project_BN (BatchNormal (None, 14, 14, 64)   256         block_9_project[0][0]            \n",
      "__________________________________________________________________________________________________\n",
      "block_9_add (Add)               (None, 14, 14, 64)   0           block_8_add[0][0]                \n",
      "                                                                 block_9_project_BN[0][0]         \n",
      "__________________________________________________________________________________________________\n",
      "block_10_expand (Conv2D)        (None, 14, 14, 384)  24576       block_9_add[0][0]                \n",
      "__________________________________________________________________________________________________\n",
      "block_10_expand_BN (BatchNormal (None, 14, 14, 384)  1536        block_10_expand[0][0]            \n",
      "__________________________________________________________________________________________________\n",
      "block_10_expand_relu (ReLU)     (None, 14, 14, 384)  0           block_10_expand_BN[0][0]         \n",
      "__________________________________________________________________________________________________\n",
      "block_10_depthwise (DepthwiseCo (None, 14, 14, 384)  3456        block_10_expand_relu[0][0]       \n",
      "__________________________________________________________________________________________________\n",
      "block_10_depthwise_BN (BatchNor (None, 14, 14, 384)  1536        block_10_depthwise[0][0]         \n",
      "__________________________________________________________________________________________________\n",
      "block_10_depthwise_relu (ReLU)  (None, 14, 14, 384)  0           block_10_depthwise_BN[0][0]      \n",
      "__________________________________________________________________________________________________\n",
      "block_10_project (Conv2D)       (None, 14, 14, 96)   36864       block_10_depthwise_relu[0][0]    \n",
      "__________________________________________________________________________________________________\n",
      "block_10_project_BN (BatchNorma (None, 14, 14, 96)   384         block_10_project[0][0]           \n",
      "__________________________________________________________________________________________________\n",
      "block_11_expand (Conv2D)        (None, 14, 14, 576)  55296       block_10_project_BN[0][0]        \n",
      "__________________________________________________________________________________________________\n",
      "block_11_expand_BN (BatchNormal (None, 14, 14, 576)  2304        block_11_expand[0][0]            \n",
      "__________________________________________________________________________________________________\n",
      "block_11_expand_relu (ReLU)     (None, 14, 14, 576)  0           block_11_expand_BN[0][0]         \n",
      "__________________________________________________________________________________________________\n",
      "block_11_depthwise (DepthwiseCo (None, 14, 14, 576)  5184        block_11_expand_relu[0][0]       \n",
      "__________________________________________________________________________________________________\n",
      "block_11_depthwise_BN (BatchNor (None, 14, 14, 576)  2304        block_11_depthwise[0][0]         \n",
      "__________________________________________________________________________________________________\n",
      "block_11_depthwise_relu (ReLU)  (None, 14, 14, 576)  0           block_11_depthwise_BN[0][0]      \n",
      "__________________________________________________________________________________________________\n",
      "block_11_project (Conv2D)       (None, 14, 14, 96)   55296       block_11_depthwise_relu[0][0]    \n",
      "__________________________________________________________________________________________________\n",
      "block_11_project_BN (BatchNorma (None, 14, 14, 96)   384         block_11_project[0][0]           \n",
      "__________________________________________________________________________________________________\n",
      "block_11_add (Add)              (None, 14, 14, 96)   0           block_10_project_BN[0][0]        \n",
      "                                                                 block_11_project_BN[0][0]        \n",
      "__________________________________________________________________________________________________\n",
      "block_12_expand (Conv2D)        (None, 14, 14, 576)  55296       block_11_add[0][0]               \n",
      "__________________________________________________________________________________________________\n",
      "block_12_expand_BN (BatchNormal (None, 14, 14, 576)  2304        block_12_expand[0][0]            \n",
      "__________________________________________________________________________________________________\n",
      "block_12_expand_relu (ReLU)     (None, 14, 14, 576)  0           block_12_expand_BN[0][0]         \n",
      "__________________________________________________________________________________________________\n",
      "block_12_depthwise (DepthwiseCo (None, 14, 14, 576)  5184        block_12_expand_relu[0][0]       \n",
      "__________________________________________________________________________________________________\n",
      "block_12_depthwise_BN (BatchNor (None, 14, 14, 576)  2304        block_12_depthwise[0][0]         \n",
      "__________________________________________________________________________________________________\n",
      "block_12_depthwise_relu (ReLU)  (None, 14, 14, 576)  0           block_12_depthwise_BN[0][0]      \n",
      "__________________________________________________________________________________________________\n",
      "block_12_project (Conv2D)       (None, 14, 14, 96)   55296       block_12_depthwise_relu[0][0]    \n",
      "__________________________________________________________________________________________________\n",
      "block_12_project_BN (BatchNorma (None, 14, 14, 96)   384         block_12_project[0][0]           \n",
      "__________________________________________________________________________________________________\n",
      "block_12_add (Add)              (None, 14, 14, 96)   0           block_11_add[0][0]               \n",
      "                                                                 block_12_project_BN[0][0]        \n",
      "__________________________________________________________________________________________________\n",
      "block_13_expand (Conv2D)        (None, 14, 14, 576)  55296       block_12_add[0][0]               \n",
      "__________________________________________________________________________________________________\n",
      "block_13_expand_BN (BatchNormal (None, 14, 14, 576)  2304        block_13_expand[0][0]            \n",
      "__________________________________________________________________________________________________\n",
      "block_13_expand_relu (ReLU)     (None, 14, 14, 576)  0           block_13_expand_BN[0][0]         \n",
      "__________________________________________________________________________________________________\n",
      "block_13_pad (ZeroPadding2D)    (None, 15, 15, 576)  0           block_13_expand_relu[0][0]       \n",
      "__________________________________________________________________________________________________\n",
      "block_13_depthwise (DepthwiseCo (None, 7, 7, 576)    5184        block_13_pad[0][0]               \n",
      "__________________________________________________________________________________________________\n",
      "block_13_depthwise_BN (BatchNor (None, 7, 7, 576)    2304        block_13_depthwise[0][0]         \n",
      "__________________________________________________________________________________________________\n",
      "block_13_depthwise_relu (ReLU)  (None, 7, 7, 576)    0           block_13_depthwise_BN[0][0]      \n",
      "__________________________________________________________________________________________________\n",
      "block_13_project (Conv2D)       (None, 7, 7, 160)    92160       block_13_depthwise_relu[0][0]    \n",
      "__________________________________________________________________________________________________\n",
      "block_13_project_BN (BatchNorma (None, 7, 7, 160)    640         block_13_project[0][0]           \n",
      "__________________________________________________________________________________________________\n",
      "block_14_expand (Conv2D)        (None, 7, 7, 960)    153600      block_13_project_BN[0][0]        \n",
      "__________________________________________________________________________________________________\n",
      "block_14_expand_BN (BatchNormal (None, 7, 7, 960)    3840        block_14_expand[0][0]            \n",
      "__________________________________________________________________________________________________\n",
      "block_14_expand_relu (ReLU)     (None, 7, 7, 960)    0           block_14_expand_BN[0][0]         \n",
      "__________________________________________________________________________________________________\n",
      "block_14_depthwise (DepthwiseCo (None, 7, 7, 960)    8640        block_14_expand_relu[0][0]       \n",
      "__________________________________________________________________________________________________\n",
      "block_14_depthwise_BN (BatchNor (None, 7, 7, 960)    3840        block_14_depthwise[0][0]         \n",
      "__________________________________________________________________________________________________\n",
      "block_14_depthwise_relu (ReLU)  (None, 7, 7, 960)    0           block_14_depthwise_BN[0][0]      \n",
      "__________________________________________________________________________________________________\n",
      "block_14_project (Conv2D)       (None, 7, 7, 160)    153600      block_14_depthwise_relu[0][0]    \n",
      "__________________________________________________________________________________________________\n",
      "block_14_project_BN (BatchNorma (None, 7, 7, 160)    640         block_14_project[0][0]           \n",
      "__________________________________________________________________________________________________\n",
      "block_14_add (Add)              (None, 7, 7, 160)    0           block_13_project_BN[0][0]        \n",
      "                                                                 block_14_project_BN[0][0]        \n",
      "__________________________________________________________________________________________________\n",
      "block_15_expand (Conv2D)        (None, 7, 7, 960)    153600      block_14_add[0][0]               \n",
      "__________________________________________________________________________________________________\n",
      "block_15_expand_BN (BatchNormal (None, 7, 7, 960)    3840        block_15_expand[0][0]            \n",
      "__________________________________________________________________________________________________\n",
      "block_15_expand_relu (ReLU)     (None, 7, 7, 960)    0           block_15_expand_BN[0][0]         \n",
      "__________________________________________________________________________________________________\n",
      "block_15_depthwise (DepthwiseCo (None, 7, 7, 960)    8640        block_15_expand_relu[0][0]       \n",
      "__________________________________________________________________________________________________\n",
      "block_15_depthwise_BN (BatchNor (None, 7, 7, 960)    3840        block_15_depthwise[0][0]         \n",
      "__________________________________________________________________________________________________\n",
      "block_15_depthwise_relu (ReLU)  (None, 7, 7, 960)    0           block_15_depthwise_BN[0][0]      \n",
      "__________________________________________________________________________________________________\n",
      "block_15_project (Conv2D)       (None, 7, 7, 160)    153600      block_15_depthwise_relu[0][0]    \n",
      "__________________________________________________________________________________________________\n",
      "block_15_project_BN (BatchNorma (None, 7, 7, 160)    640         block_15_project[0][0]           \n",
      "__________________________________________________________________________________________________\n",
      "block_15_add (Add)              (None, 7, 7, 160)    0           block_14_add[0][0]               \n",
      "                                                                 block_15_project_BN[0][0]        \n",
      "__________________________________________________________________________________________________\n",
      "block_16_expand (Conv2D)        (None, 7, 7, 960)    153600      block_15_add[0][0]               \n",
      "__________________________________________________________________________________________________\n",
      "block_16_expand_BN (BatchNormal (None, 7, 7, 960)    3840        block_16_expand[0][0]            \n",
      "__________________________________________________________________________________________________\n",
      "block_16_expand_relu (ReLU)     (None, 7, 7, 960)    0           block_16_expand_BN[0][0]         \n",
      "__________________________________________________________________________________________________\n",
      "block_16_depthwise (DepthwiseCo (None, 7, 7, 960)    8640        block_16_expand_relu[0][0]       \n",
      "__________________________________________________________________________________________________\n",
      "block_16_depthwise_BN (BatchNor (None, 7, 7, 960)    3840        block_16_depthwise[0][0]         \n",
      "__________________________________________________________________________________________________\n",
      "block_16_depthwise_relu (ReLU)  (None, 7, 7, 960)    0           block_16_depthwise_BN[0][0]      \n",
      "__________________________________________________________________________________________________\n",
      "block_16_project (Conv2D)       (None, 7, 7, 320)    307200      block_16_depthwise_relu[0][0]    \n",
      "__________________________________________________________________________________________________\n",
      "block_16_project_BN (BatchNorma (None, 7, 7, 320)    1280        block_16_project[0][0]           \n",
      "__________________________________________________________________________________________________\n",
      "Conv_1 (Conv2D)                 (None, 7, 7, 1280)   409600      block_16_project_BN[0][0]        \n",
      "__________________________________________________________________________________________________\n",
      "Conv_1_bn (BatchNormalization)  (None, 7, 7, 1280)   5120        Conv_1[0][0]                     \n",
      "__________________________________________________________________________________________________\n",
      "out_relu (ReLU)                 (None, 7, 7, 1280)   0           Conv_1_bn[0][0]                  \n",
      "__________________________________________________________________________________________________\n",
      "global_average_pooling2d (Globa (None, 1280)         0           out_relu[0][0]                   \n",
      "==================================================================================================\n",
      "Total params: 2,257,984\n",
      "Trainable params: 2,223,872\n",
      "Non-trainable params: 34,112\n",
      "__________________________________________________________________________________________________"
     ]
    }
   ],
   "source": [
    "new_model.summary()"
   ]
  },
  {
   "cell_type": "code",
   "execution_count": 12,
   "metadata": {},
   "outputs": [
    {
     "data": {
      "application/vnd.jupyter.widget-view+json": {
       "model_id": "",
       "version_major": 2,
       "version_minor": 0
      },
      "text/plain": [
       "FloatProgress(value=0.0, bar_style='info', description='Progress:', layout=Layout(height='25px', width='50%'),…"
      ]
     },
     "metadata": {},
     "output_type": "display_data"
    }
   ],
   "source": [
    "def model_fn():\n",
    "    \"\"\"\n",
    "    Returns a MobileNetV2 model with top layer removed \n",
    "    and broadcasted pretrained weights.\n",
    "    \"\"\"\n",
    "    model = MobileNetV2(weights='imagenet',\n",
    "                        include_top=True,\n",
    "                        input_shape=(224, 224, 3))\n",
    "    for layer in model.layers:\n",
    "        layer.trainable = False\n",
    "    new_model = Model(inputs=model.input,\n",
    "                  outputs=model.layers[-2].output)\n",
    "    new_model.set_weights(brodcast_weights.value)\n",
    "    return new_model"
   ]
  },
  {
   "cell_type": "markdown",
   "metadata": {},
   "source": [
    "##### 4.10.5.3. Outline of the process of loading images and the application of their featurization through the use of Pandas UDF"
   ]
  },
  {
   "cell_type": "code",
   "execution_count": 13,
   "metadata": {},
   "outputs": [
    {
     "data": {
      "application/vnd.jupyter.widget-view+json": {
       "model_id": "",
       "version_major": 2,
       "version_minor": 0
      },
      "text/plain": [
       "FloatProgress(value=0.0, bar_style='info', description='Progress:', layout=Layout(height='25px', width='50%'),…"
      ]
     },
     "metadata": {},
     "output_type": "display_data"
    },
    {
     "name": "stdout",
     "output_type": "stream",
     "text": [
      "/mnt/yarn/usercache/livy/appcache/application_1707907462196_0001/container_1707907462196_0001_01_000001/pyspark.zip/pyspark/sql/pandas/functions.py:392: UserWarning: In Python 3.6+ and Spark 3.0+, it is preferred to specify type hints for pandas UDF instead of specifying pandas UDF type which will be deprecated in the future releases. See SPARK-28264 for more details."
     ]
    }
   ],
   "source": [
    "def preprocess(content):\n",
    "    \"\"\"\n",
    "    Preprocesses raw image bytes for prediction.\n",
    "    \"\"\"\n",
    "    img = Image.open(io.BytesIO(content)).resize([224, 224])\n",
    "    arr = img_to_array(img)\n",
    "    return preprocess_input(arr)\n",
    "\n",
    "def featurize_series(model, content_series):\n",
    "    \"\"\"\n",
    "    Featurize a pd.Series of raw images using the input model.\n",
    "    :return: a pd.Series of image features\n",
    "    \"\"\"\n",
    "    input = np.stack(content_series.map(preprocess))\n",
    "    preds = model.predict(input)\n",
    "    # For some layers, output features will be multi-dimensional tensors.\n",
    "    # We flatten the feature tensors to vectors for easier storage in Spark DataFrames.\n",
    "    output = [p.flatten() for p in preds]\n",
    "    return pd.Series(output)\n",
    "\n",
    "@pandas_udf('array<float>', PandasUDFType.SCALAR_ITER)\n",
    "def featurize_udf(content_series_iter):\n",
    "    '''\n",
    "    This method is a Scalar Iterator pandas UDF wrapping our featurization function.\n",
    "    The decorator specifies that this returns a Spark DataFrame column of type ArrayType(FloatType).\n",
    "\n",
    "    :param content_series_iter: This argument is an iterator over batches of data, where each batch\n",
    "                              is a pandas Series of image data.\n",
    "    '''\n",
    "    # With Scalar Iterator pandas UDFs, we can load the model once and then re-use it\n",
    "    # for multiple data batches.  This amortizes the overhead of loading big models.\n",
    "    model = model_fn()\n",
    "    for content_series in content_series_iter:\n",
    "        yield featurize_series(model, content_series)"
   ]
  },
  {
   "cell_type": "markdown",
   "metadata": {},
   "source": [
    "##### 4.10.5.4. Run feature extraction actions"
   ]
  },
  {
   "cell_type": "code",
   "execution_count": 14,
   "metadata": {},
   "outputs": [
    {
     "data": {
      "application/vnd.jupyter.widget-view+json": {
       "model_id": "",
       "version_major": 2,
       "version_minor": 0
      },
      "text/plain": [
       "FloatProgress(value=0.0, bar_style='info', description='Progress:', layout=Layout(height='25px', width='50%'),…"
      ]
     },
     "metadata": {},
     "output_type": "display_data"
    }
   ],
   "source": [
    "# spark.conf.set(\"spark.sql.execution.arrow.maxRecordsPerBatch\", \"1024\")"
   ]
  },
  {
   "cell_type": "code",
   "execution_count": 15,
   "metadata": {},
   "outputs": [
    {
     "data": {
      "application/vnd.jupyter.widget-view+json": {
       "model_id": "",
       "version_major": 2,
       "version_minor": 0
      },
      "text/plain": [
       "FloatProgress(value=0.0, bar_style='info', description='Progress:', layout=Layout(height='25px', width='50%'),…"
      ]
     },
     "metadata": {},
     "output_type": "display_data"
    }
   ],
   "source": [
    "features_df = images.repartition(24).select(col(\"path\"),\n",
    "                                            col(\"label\"),\n",
    "                                            featurize_udf(\"content\").alias(\"features\")\n",
    "                                           )"
   ]
  },
  {
   "cell_type": "code",
   "execution_count": 16,
   "metadata": {},
   "outputs": [
    {
     "data": {
      "application/vnd.jupyter.widget-view+json": {
       "model_id": "",
       "version_major": 2,
       "version_minor": 0
      },
      "text/plain": [
       "FloatProgress(value=0.0, bar_style='info', description='Progress:', layout=Layout(height='25px', width='50%'),…"
      ]
     },
     "metadata": {},
     "output_type": "display_data"
    },
    {
     "name": "stdout",
     "output_type": "stream",
     "text": [
      "s3://openclassrooms-p8-fruits-data/data/results"
     ]
    }
   ],
   "source": [
    "print(PATH_Result)"
   ]
  },
  {
   "cell_type": "code",
   "execution_count": 17,
   "metadata": {},
   "outputs": [
    {
     "data": {
      "application/vnd.jupyter.widget-view+json": {
       "model_id": "",
       "version_major": 2,
       "version_minor": 0
      },
      "text/plain": [
       "FloatProgress(value=0.0, bar_style='info', description='Progress:', layout=Layout(height='25px', width='50%'),…"
      ]
     },
     "metadata": {},
     "output_type": "display_data"
    }
   ],
   "source": [
    "features_df.write.mode(\"overwrite\").parquet(PATH_Result)"
   ]
  },
  {
   "cell_type": "markdown",
   "metadata": {},
   "source": [
    "##### 4.10.5.5. Apply dimension reduction to the test data"
   ]
  },
  {
   "cell_type": "code",
   "execution_count": 18,
   "metadata": {},
   "outputs": [
    {
     "data": {
      "application/vnd.jupyter.widget-view+json": {
       "model_id": "",
       "version_major": 2,
       "version_minor": 0
      },
      "text/plain": [
       "FloatProgress(value=0.0, bar_style='info', description='Progress:', layout=Layout(height='25px', width='50%'),…"
      ]
     },
     "metadata": {},
     "output_type": "display_data"
    }
   ],
   "source": [
    "# Convert the features column to a dense vector\n",
    "dense_vector = udf(lambda a: Vectors.dense(a), VectorUDT())\n",
    "dense_df = features_df.select(\"path\", \"label\", dense_vector(\"features\").alias(\"dense_features\"))"
   ]
  },
  {
   "cell_type": "code",
   "execution_count": 19,
   "metadata": {},
   "outputs": [
    {
     "data": {
      "application/vnd.jupyter.widget-view+json": {
       "model_id": "",
       "version_major": 2,
       "version_minor": 0
      },
      "text/plain": [
       "FloatProgress(value=0.0, bar_style='info', description='Progress:', layout=Layout(height='25px', width='50%'),…"
      ]
     },
     "metadata": {},
     "output_type": "display_data"
    }
   ],
   "source": [
    "# Apply PCA to the dense vector\n",
    "pca = PCA(k=50, inputCol=\"dense_features\", outputCol=\"pca_features\")\n",
    "model = pca.fit(dense_df)\n",
    "result = model.transform(dense_df).select(\"path\", \"label\", \"pca_features\")"
   ]
  },
  {
   "cell_type": "code",
   "execution_count": 20,
   "metadata": {},
   "outputs": [
    {
     "data": {
      "application/vnd.jupyter.widget-view+json": {
       "model_id": "",
       "version_major": 2,
       "version_minor": 0
      },
      "text/plain": [
       "FloatProgress(value=0.0, bar_style='info', description='Progress:', layout=Layout(height='25px', width='50%'),…"
      ]
     },
     "metadata": {},
     "output_type": "display_data"
    }
   ],
   "source": [
    "# Write the result after PCA to a parquet file\n",
    "result.write.mode(\"overwrite\").parquet(PATH_Result + \"/pca_results\")"
   ]
  },
  {
   "cell_type": "code",
   "execution_count": 21,
   "metadata": {},
   "outputs": [
    {
     "data": {
      "application/vnd.jupyter.widget-view+json": {
       "model_id": "",
       "version_major": 2,
       "version_minor": 0
      },
      "text/plain": [
       "FloatProgress(value=0.0, bar_style='info', description='Progress:', layout=Layout(height='25px', width='50%'),…"
      ]
     },
     "metadata": {},
     "output_type": "display_data"
    },
    {
     "name": "stdout",
     "output_type": "stream",
     "text": [
      "s3://openclassrooms-p8-fruits-data/data/results/pca_results"
     ]
    }
   ],
   "source": [
    "print(PATH_Result + \"/pca_results\")"
   ]
  },
  {
   "cell_type": "markdown",
   "metadata": {},
   "source": [
    "##### 4.10.5.6. Load saved data and validate results\n",
    "\n",
    "<u>Let's load into a pandas DataFrame the data that have just been saved: </u>"
   ]
  },
  {
   "cell_type": "code",
   "execution_count": 22,
   "metadata": {},
   "outputs": [
    {
     "data": {
      "application/vnd.jupyter.widget-view+json": {
       "model_id": "",
       "version_major": 2,
       "version_minor": 0
      },
      "text/plain": [
       "FloatProgress(value=0.0, bar_style='info', description='Progress:', layout=Layout(height='25px', width='50%'),…"
      ]
     },
     "metadata": {},
     "output_type": "display_data"
    }
   ],
   "source": [
    "#df = pd.read_parquet(PATH_Result, engine='pyarrow')\n",
    "df = spark.read.parquet(PATH_Result)"
   ]
  },
  {
   "cell_type": "code",
   "execution_count": 23,
   "metadata": {},
   "outputs": [
    {
     "data": {
      "application/vnd.jupyter.widget-view+json": {
       "model_id": "",
       "version_major": 2,
       "version_minor": 0
      },
      "text/plain": [
       "FloatProgress(value=0.0, bar_style='info', description='Progress:', layout=Layout(height='25px', width='50%'),…"
      ]
     },
     "metadata": {},
     "output_type": "display_data"
    },
    {
     "name": "stdout",
     "output_type": "stream",
     "text": [
      "Row(path='s3://openclassrooms-p8-fruits-data/data/test/Watermelon/r_87_100.jpg', label='Watermelon', features=[0.029508255422115326, 0.06816301494836807, 0.0, 0.016227003186941147, 0.557296633720398, 0.0, 0.7705082893371582, 0.38912272453308105, 0.0, 0.0, 0.6036859154701233, 0.16412188112735748, 0.00229330244474113, 0.08688440173864365, 0.056950509548187256, 0.0, 0.0, 0.007440071552991867, 0.0, 0.4715491831302643, 0.0, 0.0, 0.0, 0.0, 0.05052385851740837, 1.2084769010543823, 2.2853941917419434, 0.0, 0.0, 1.5637874603271484, 0.17250505089759827, 0.0, 0.15200825035572052, 0.860082745552063, 0.0, 0.017210079357028008, 0.6624481081962585, 3.016568660736084, 0.0, 0.0, 0.006589928641915321, 0.0, 0.10211249440908432, 0.0, 0.029085317626595497, 0.0, 0.42747583985328674, 0.23558345437049866, 1.3489508628845215, 0.20422177016735077, 0.0, 0.0, 0.17094318568706512, 0.0, 0.004170811735093594, 2.3509719371795654, 0.0, 0.6281321048736572, 0.0, 0.0, 0.0, 0.0, 0.0, 0.0, 2.5626542568206787, 0.5234739184379578, 2.4517152309417725, 0.0, 0.0, 0.025031207129359245, 0.0, 0.019710954278707504, 0.0, 1.3984832763671875, 0.0017817303305491805, 1.10484778881073, 0.0, 0.0, 0.0, 0.0, 0.0, 1.761796236038208, 0.0, 0.014985297806560993, 0.004232306964695454, 0.0, 0.039098698645830154, 0.884404718875885, 1.00275719165802, 2.173060894012451, 0.6093561053276062, 0.007270758040249348, 0.0, 0.011562823317945004, 1.1818851232528687, 0.37219569087028503, 0.9365727305412292, 0.07608479261398315, 1.0724538564682007, 0.0, 0.051392313092947006, 0.0, 0.1605289727449417, 0.0, 0.8428307175636292, 0.7148690223693848, 0.0, 0.16942721605300903, 0.0, 0.06233619526028633, 0.0, 0.0, 0.0, 0.5369150638580322, 0.0, 0.7574983835220337, 1.9981459379196167, 0.12786781787872314, 0.0, 0.3903781473636627, 0.04544685781002045, 0.0945216715335846, 0.021301601082086563, 0.008709199726581573, 0.027673007920384407, 0.7560139894485474, 0.2547575831413269, 2.337972640991211, 2.6874265670776367, 0.043912988156080246, 0.19106310606002808, 2.2256863117218018, 0.1765698790550232, 0.0, 1.1666373014450073, 0.0, 0.3051453232765198, 0.0, 2.3543927669525146, 1.3737350702285767, 0.5167507529258728, 0.0, 0.8651459217071533, 0.9072343707084656, 0.0, 0.9642850756645203, 0.033538226038217545, 1.8876242637634277, 0.0, 0.8438249826431274, 0.011247977614402771, 0.0, 0.12027781456708908, 0.0, 0.07576951384544373, 0.04172004386782646, 0.025756072252988815, 0.00395297072827816, 0.27240341901779175, 0.07354092597961426, 0.0, 0.03060249425470829, 0.0, 0.13871778547763824, 1.514327883720398, 2.5594093799591064, 1.217289686203003, 1.5840994119644165, 0.654901385307312, 0.047185901552438736, 0.0, 0.0, 0.4149401783943176, 1.35992431640625, 0.0, 1.25959312915802, 0.8990442156791687, 1.6414531469345093, 0.1091410294175148, 0.5253050327301025, 0.8908971548080444, 0.07683354616165161, 0.0055817002430558205, 0.0, 0.2605709433555603, 0.24556955695152283, 0.707785964012146, 0.12062181532382965, 0.0, 0.0, 0.03868607059121132, 1.0884805917739868, 0.0, 0.17052356898784637, 0.10130687803030014, 0.0, 0.0, 0.0, 0.030256658792495728, 0.004581612069159746, 2.0747852325439453, 0.10148614645004272, 0.06668780744075775, 0.016046445816755295, 0.0, 0.010412509553134441, 0.0, 0.0, 0.46215882897377014, 1.6342315673828125, 0.0, 0.25404661893844604, 0.0, 0.03895079717040062, 0.006693254224956036, 0.282143771648407, 0.03614840283989906, 0.0, 0.7305472493171692, 0.0, 0.7373911142349243, 0.0, 0.0, 0.5691474676132202, 0.07108353823423386, 0.0, 0.0, 0.6228876113891602, 1.9873301982879639, 0.5363649129867554, 0.5515668988227844, 0.1174451932311058, 0.5414866805076599, 1.4765721559524536, 0.17636927962303162, 0.16023807227611542, 0.0, 0.0, 0.11796138435602188, 0.9007049202919006, 2.8190314769744873, 0.5916233062744141, 0.0, 0.0676998496055603, 0.1420915275812149, 0.19911004602909088, 2.2630813121795654, 0.0, 2.5368480682373047, 0.558678150177002, 2.629065752029419, 0.0, 0.04137609526515007, 0.0, 2.1878249645233154, 0.7636202573776245, 1.1836971044540405, 0.06991108506917953, 0.044762708246707916, 0.8083876967430115, 0.0, 1.5529311895370483, 0.0909799262881279, 0.4780021905899048, 0.0, 0.0, 0.0, 0.0, 0.0, 0.0, 0.0, 0.01908263936638832, 1.5376471281051636, 0.03786824271082878, 0.6558775901794434, 0.49189502000808716, 0.402005672454834, 0.0, 0.0047846646048128605, 0.0, 0.0, 0.0, 0.0, 0.40581995248794556, 2.2443666458129883, 0.0, 0.0021650136914104223, 0.4189887046813965, 0.9371665716171265, 0.18278664350509644, 0.6548097729682922, 0.39534297585487366, 0.04193824529647827, 0.0, 0.0, 1.5419062376022339, 0.03986777737736702, 0.0, 0.0, 0.036804161965847015, 0.0, 0.0203248281031847, 0.6169484257698059, 0.4121706783771515, 0.04731914773583412, 0.0, 0.0, 0.640883207321167, 0.0, 0.0, 0.6232053637504578, 1.2086083889007568, 0.07825587689876556, 0.0, 1.4644643068313599, 0.2099130004644394, 0.0, 0.0, 0.0, 0.1154126226902008, 0.4688219428062439, 1.461561679840088, 0.9142662286758423, 0.22499172389507294, 0.0, 0.07411310076713562, 0.02013460546731949, 0.03936734423041344, 0.0, 0.2763673961162567, 0.0, 0.002343106782063842, 0.04083883389830589, 2.70379638671875, 0.0, 0.0, 0.0, 0.01892751082777977, 0.0042262510396540165, 1.6574543714523315, 0.0, 0.2337270826101303, 0.149848073720932, 0.02504996955394745, 0.28689268231391907, 1.5802298784255981, 0.0, 0.0, 1.2506673336029053, 0.6623697876930237, 0.26237809658050537, 0.14898088574409485, 0.0, 0.9020060300827026, 0.0, 0.0, 0.0, 0.0, 0.992546021938324, 0.021021340042352676, 0.10515925288200378, 2.4122419357299805, 0.11992891132831573, 1.7685002088546753, 0.3689044713973999, 0.009976174682378769, 0.8503391742706299, 0.5415534973144531, 0.0, 0.0, 0.20438863337039948, 0.0, 0.0, 0.10783233493566513, 0.646983802318573, 0.0, 0.0, 0.4402463436126709, 0.43255069851875305, 0.0, 0.01282703410834074, 0.39611002802848816, 0.22367218136787415, 0.0, 0.138391375541687, 0.0, 0.433167427778244, 0.0, 0.0, 0.5972524881362915, 3.0734405517578125, 0.0, 0.0, 0.019517360255122185, 0.0, 0.03158858045935631, 0.033781748265028, 0.0, 0.06613072752952576, 0.3520197570323944, 0.6203758120536804, 1.3706529140472412, 0.04079288989305496, 0.08791355043649673, 0.0, 1.541020154953003, 0.35602083802223206, 0.19836752116680145, 1.9138669967651367, 0.0, 2.4377856254577637, 2.123492956161499, 0.0, 0.2239690124988556, 0.6225444078445435, 0.0021320011001080275, 0.0, 0.26800185441970825, 0.7889325618743896, 3.0471417903900146, 0.43069761991500854, 1.600423812866211, 0.41933196783065796, 0.0, 0.024216994643211365, 0.9641639590263367, 0.558234691619873, 0.004951598588377237, 0.0, 0.0, 0.11178974062204361, 0.14311517775058746, 0.0, 0.0, 0.007861532270908356, 1.3648746013641357, 0.3771582245826721, 0.017498817294836044, 0.0, 0.04761761426925659, 0.0, 0.0, 1.96888267993927, 0.42442089319229126, 1.6929798126220703, 1.4464168548583984, 0.03624726086854935, 0.4199366569519043, 0.6850855350494385, 0.0, 0.6800466775894165, 0.9016598463058472, 0.8662221431732178, 0.21563173830509186, 2.2028565406799316, 1.164603352546692, 0.0, 0.0, 0.5112285017967224, 0.0, 1.4143401384353638, 0.3938004970550537, 0.0, 0.04694199934601784, 1.6243107318878174, 0.07356347143650055, 2.554752826690674, 0.0, 1.18567955493927, 0.5982767939567566, 0.03884942829608917, 0.0, 0.014555937610566616, 0.8889224529266357, 0.26866039633750916, 0.3007982671260834, 0.7519169449806213, 0.0, 0.0, 2.3444948196411133, 0.0, 0.01263909600675106, 0.042708128690719604, 0.0, 0.5375173687934875, 1.2391914129257202, 0.17964518070220947, 1.4954487085342407, 0.0, 1.1347163915634155, 0.5847057700157166, 0.07459045946598053, 0.0, 0.9169225692749023, 0.7248719930648804, 0.0, 0.5101798176765442, 0.04151884838938713, 0.02700820565223694, 2.7832624912261963, 0.0, 1.1736797094345093, 0.0, 0.0, 0.42411765456199646, 0.0, 0.0, 0.0, 0.5572111010551453, 0.0, 0.724397599697113, 1.3359270095825195, 0.6668622493743896, 1.1245471239089966, 0.35201695561408997, 0.31758031249046326, 0.0, 2.2649803161621094, 0.29012563824653625, 0.027294117957353592, 0.010853217914700508, 3.346550226211548, 0.0, 0.16537244617938995, 0.0, 0.0, 0.47475677728652954, 0.11307378858327866, 1.8061403036117554, 0.13027982413768768, 1.006535530090332, 0.6092407703399658, 0.0, 0.0032788633834570646, 1.154056191444397, 0.06638550013303757, 0.06069129705429077, 0.00674851518124342, 0.6981640458106995, 0.6368962526321411, 0.00021739464136771858, 0.0, 0.6677276492118835, 0.6983227133750916, 0.11548779904842377, 0.0, 0.0, 0.0, 0.0, 0.10627776384353638, 0.6100861430168152, 0.0, 0.0, 0.0, 0.04530144855380058, 0.0, 1.0140618085861206, 2.489565372467041, 1.8533039093017578, 3.300551414489746, 0.0977974534034729, 0.0, 1.0204408168792725, 0.0, 1.0061075687408447, 0.2083652913570404, 2.298722267150879, 0.0047464873641729355, 0.0, 0.0, 0.017709095031023026, 0.3667679727077484, 0.0, 0.06808852404356003, 1.77734375, 1.682136058807373, 0.0, 0.6910609006881714, 0.0, 1.1450212001800537, 0.19715410470962524, 0.11580263823270798, 0.0, 0.02898578532040119, 0.0, 0.0, 1.2819814682006836, 0.0, 0.0, 0.04348166286945343, 0.7826041579246521, 1.368010401725769, 0.7575333118438721, 3.0151400566101074, 0.00414319708943367, 0.19041402637958527, 0.0, 0.29376721382141113, 0.1839779019355774, 0.0, 0.48407843708992004, 0.3298672139644623, 0.34270620346069336, 0.09036318957805634, 0.0, 0.0, 0.5493226051330566, 0.009805693291127682, 0.12457668781280518, 0.062132321298122406, 0.03223833441734314, 1.5010179281234741, 0.008386805653572083, 0.0, 2.3023769855499268, 0.4023529887199402, 1.8403085470199585, 0.044243667274713516, 0.10465177148580551, 0.0, 0.0, 0.406690388917923, 0.5033603310585022, 0.8081750869750977, 0.0, 0.3264448940753937, 0.2456536591053009, 0.0, 0.0, 0.03929109498858452, 0.9508392810821533, 0.09271301329135895, 0.03217560797929764, 0.07622374594211578, 0.011742934584617615, 1.313724398612976, 0.6597150564193726, 1.6613608598709106, 0.27534374594688416, 0.5542540550231934, 0.0, 0.0, 1.131483554840088, 0.4878416657447815, 0.0, 1.2031030654907227, 0.012774407863616943, 0.0, 0.5613793730735779, 0.3344704508781433, 0.7637738585472107, 0.14816191792488098, 0.0, 0.0, 0.34551405906677246, 0.0, 0.0, 0.5704267621040344, 0.0, 0.0, 0.0, 0.7369019389152527, 0.0, 0.0, 0.03163503482937813, 0.03269815072417259, 0.0, 0.0, 0.01428807619959116, 0.6241544485092163, 1.854145884513855, 0.35786890983581543, 3.299166679382324, 2.4930808544158936, 0.09829654544591904, 0.6988586187362671, 0.39924633502960205, 0.6437696218490601, 1.5283069610595703, 0.08784481883049011, 0.5569505095481873, 0.1261196881532669, 0.0, 0.4083540141582489, 0.0, 0.025206981226801872, 0.38968539237976074, 1.5277317762374878, 2.0881381034851074, 2.837059259414673, 0.016470961272716522, 0.10341054201126099, 0.0, 0.39202776551246643, 0.5003663897514343, 0.0, 0.21724718809127808, 0.16439634561538696, 0.35399550199508667, 0.2509589195251465, 0.0, 0.6810585260391235, 0.05832816660404205, 0.00941630732268095, 0.368986040353775, 0.0, 1.2632687091827393, 0.2303697168827057, 0.0, 0.0, 0.0, 0.3124535381793976, 1.0680694580078125, 0.0, 2.416144371032715, 0.1733333021402359, 0.3013037443161011, 0.0, 0.049226030707359314, 2.5397956371307373, 1.5577243566513062, 0.04737082123756409, 0.05872025340795517, 0.0, 1.2329893112182617, 2.283679485321045, 0.5200548768043518, 0.0, 0.7043322920799255, 1.0664812326431274, 0.11702518165111542, 2.9868879318237305, 1.9441773891448975, 0.0, 0.15700304508209229, 0.002073891693726182, 2.578381061553955, 0.0015869074268266559, 0.12832403182983398, 0.0, 0.03394046425819397, 0.5304540395736694, 0.985577404499054, 0.0, 0.011469217948615551, 0.24841345846652985, 0.04368552565574646, 0.546520471572876, 0.002736105350777507, 0.0, 0.061429452151060104, 0.0, 0.08714427053928375, 1.5493643283843994, 0.11562883853912354, 0.0, 1.2558341026306152, 0.28125491738319397, 0.9009556770324707, 0.0, 0.06971456855535507, 0.08275341242551804, 0.34108519554138184, 0.0, 0.0, 0.7940267324447632, 0.2209029495716095, 1.3209991455078125, 0.4327470064163208, 0.0, 0.26936739683151245, 0.0, 0.38081324100494385, 1.7838873863220215, 0.0, 0.8870028853416443, 0.26413729786872864, 0.0, 0.10688036680221558, 1.8877965211868286, 0.0, 0.0023695987183600664, 0.0, 0.1652022898197174, 0.7587071657180786, 0.007896492257714272, 0.0, 0.47390326857566833, 0.0, 0.0, 0.4846728444099426, 0.8655421733856201, 1.3170171976089478, 0.12351980060338974, 1.188247799873352, 1.5501985549926758, 0.3313693106174469, 0.0, 0.0, 0.11463706195354462, 0.20555379986763, 0.06282365322113037, 0.31545349955558777, 0.0, 0.1495600789785385, 0.0359758697450161, 0.0037904498167335987, 0.5584471821784973, 0.0, 0.08221757411956787, 0.16821818053722382, 0.6509917974472046, 0.0, 0.07883034646511078, 0.14791229367256165, 0.6634643077850342, 0.0, 0.0, 0.03450263664126396, 0.3847356140613556, 1.4544605016708374, 0.04363657906651497, 0.008260210044682026, 0.030599506571888924, 0.46084633469581604, 2.580371618270874, 0.0, 4.536506652832031, 0.7847589254379272, 0.08498866856098175, 0.5952011942863464, 0.017976481467485428, 0.0, 0.0, 0.024563154205679893, 0.0, 0.8025178909301758, 0.0, 0.5488962531089783, 0.06820860505104065, 0.3410130739212036, 0.0, 0.009466458112001419, 2.4907565116882324, 0.5336871147155762, 0.0, 0.004838159307837486, 0.09747407585382462, 0.12871474027633667, 0.0, 0.11283384263515472, 2.515047073364258, 0.4730810821056366, 0.05257432162761688, 0.6103019118309021, 0.014904985204339027, 0.9887287616729736, 0.0, 0.0, 0.016018396243453026, 0.47158151865005493, 0.0984758734703064, 0.0, 0.5994712710380554, 0.0, 0.0, 0.0, 0.23800313472747803, 0.0, 0.0, 0.0, 0.0, 0.47838884592056274, 0.0184126365929842, 0.0, 0.28016453981399536, 0.0, 0.9651318788528442, 0.0, 1.587214469909668, 0.0, 0.0, 1.4130207300186157, 1.7026698589324951, 0.47206243872642517, 0.0, 1.0793827772140503, 0.0, 0.9592440128326416, 0.0, 0.0, 0.0, 0.0, 0.2089163362979889, 0.546817421913147, 0.10938113182783127, 0.41361337900161743, 0.0010730018839240074, 0.0, 0.0, 0.0, 1.6598446369171143, 0.08088363707065582, 0.0, 0.23250441253185272, 0.9906503558158875, 0.0, 0.0, 0.04408734291791916, 0.18496060371398926, 0.007225047796964645, 0.0, 0.0, 0.156899094581604, 0.0, 0.0, 0.0, 0.0, 0.0, 0.0, 0.10346899181604385, 0.0, 1.2524856328964233, 0.0, 0.0, 0.8552441596984863, 0.008238676935434341, 0.0, 0.0, 0.0, 0.0, 0.0, 0.10218816995620728, 2.4220852851867676, 0.0, 0.0, 2.510474920272827, 0.04149379953742027, 0.0, 0.268271803855896, 0.0, 0.303842157125473, 0.15470804274082184, 1.0732131004333496, 0.9846326112747192, 1.4184495210647583, 2.406524419784546, 0.16575947403907776, 1.1994446516036987, 0.08753694593906403, 0.12557320296764374, 1.209947109222412, 0.0, 0.0, 0.0, 0.0250185988843441, 1.0882575511932373, 0.0, 0.01524281594902277, 0.34698382019996643, 0.2749897539615631, 0.0, 0.0, 0.13639359176158905, 2.2566444873809814, 0.0, 0.1386391520500183, 1.2250158786773682, 0.0, 2.400637149810791, 0.0, 1.502485990524292, 0.9400652050971985, 3.484790802001953, 0.3685176968574524, 0.0, 1.0831676721572876, 0.05845238268375397, 0.014153453521430492, 0.43794000148773193, 0.0, 0.16570782661437988, 1.4914027452468872, 0.0, 0.5989612936973572, 0.011580984108150005, 0.0, 0.20691393315792084, 0.0, 0.007758659310638905, 0.14539344608783722, 0.10009933263063431, 0.0, 0.7926323413848877, 0.0019282083958387375, 0.1083802878856659, 0.9551162123680115, 0.03639104589819908, 0.006854798179119825, 0.842982292175293, 0.0, 0.18925723433494568, 0.07836298644542694, 0.05037384480237961, 0.10314266383647919, 2.5813210010528564, 0.0, 0.023825621232390404, 0.0, 0.017772385850548744, 0.045184649527072906, 0.0, 0.0, 1.0383650064468384, 0.1595403552055359, 0.0, 1.0595719814300537, 0.622341513633728, 0.04005224257707596, 0.0, 0.0, 0.13316349685192108, 0.4874998927116394, 0.09186721593141556, 0.034846093505620956, 0.0, 0.005161339417099953, 0.0, 1.4855960607528687, 0.05709037184715271, 0.0, 0.0, 0.8155608177185059, 0.43687719106674194, 0.11100444942712784, 0.3507785499095917, 0.0, 0.04056142643094063, 1.9405417442321777, 1.3403376340866089, 0.9127824902534485, 0.0, 0.9184005856513977, 0.1963530033826828, 0.0, 0.0, 0.0, 1.5667507648468018, 0.0, 0.0937541127204895, 0.0, 0.0, 0.8332250714302063, 0.5852997303009033, 1.456687569618225, 0.1855018138885498, 2.0440595149993896, 3.364217758178711, 0.0, 0.0, 0.08626953512430191, 0.48129937052726746, 0.3130592703819275, 0.10665369778871536, 0.22636383771896362, 0.0, 0.5647218227386475, 0.0021214548032730818, 0.6637458205223083, 0.3599425256252289, 0.1394822895526886, 1.2415215969085693, 0.0, 0.4018399715423584, 1.0187368392944336, 1.0216437578201294, 0.0, 2.1089470386505127, 0.0, 0.0, 0.4982850253582001, 0.0, 0.47828373312950134, 0.0800255760550499, 0.4074527323246002, 0.0, 0.0, 0.22351206839084625, 0.10376304388046265, 1.4076122045516968, 0.0, 0.0, 1.0077970027923584, 2.0725784301757812, 0.0, 0.0, 0.21297907829284668, 0.20021162927150726, 0.0, 0.3081321120262146, 0.05904078856110573, 1.2485719919204712, 1.7055385112762451, 0.0, 0.0867733284831047, 0.0, 2.195958137512207, 0.377180814743042, 0.0, 0.0, 0.0, 0.0, 0.656287431716919, 0.05357725918292999, 0.0, 0.5976566672325134, 0.07352285087108612, 0.13051460683345795, 1.411181092262268, 0.004565489944070578, 0.0, 7.022528734523803e-05, 0.0, 0.0, 0.6764680743217468, 0.1527004837989807, 1.4102925062179565, 0.009155276231467724, 0.6066339612007141, 1.5728622674942017, 1.1011282205581665, 0.0, 0.1999247968196869, 0.0, 2.6483030319213867, 0.0, 1.7663815021514893, 1.1032805442810059, 0.03666037321090698, 0.035471655428409576, 0.0, 0.0, 1.2216109037399292, 0.7056676745414734, 1.4788036346435547, 1.7296245098114014, 0.01272950042039156, 1.2360223531723022, 0.0, 0.46353381872177124, 1.408265233039856, 0.05815793201327324, 0.31645965576171875, 0.0073495889082551, 0.8663601875305176, 0.0, 0.6035487055778503, 0.0, 1.7867145538330078, 0.0, 1.6900687217712402, 0.0, 0.6989682912826538, 0.0, 0.0, 0.014325933530926704, 0.24368487298488617, 0.018780821934342384, 0.0, 0.0, 0.0, 0.0, 2.6566429138183594, 0.31769657135009766, 0.0, 1.707049012184143, 0.15843454003334045, 0.34268224239349365, 0.24286554753780365, 0.0, 0.03837456926703453, 0.7551175951957703, 1.0951954126358032, 0.22142574191093445, 0.7270863652229309, 0.15297210216522217, 0.0, 2.393775463104248, 0.6539489030838013, 1.9996193647384644, 0.8897931575775146, 0.0, 0.0, 0.10343189537525177, 0.0, 0.4521162807941437, 0.0, 0.02396119199693203, 0.0, 1.431652307510376, 0.3869246542453766, 0.06721880286931992, 0.9089480638504028, 0.13304293155670166, 0.39179831743240356, 0.038694117218256, 0.0, 1.7209025621414185, 0.12908218801021576, 0.050587572157382965, 0.17000770568847656, 0.09393200278282166, 0.0, 0.2949594259262085, 0.029288895428180695, 0.0, 0.7122915387153625, 0.035163406282663345, 1.893263339996338, 0.0, 0.0, 0.05241686850786209, 0.20888184010982513, 0.013886875472962856, 0.3661315441131592, 0.7570071816444397, 0.1383516937494278, 1.1037867069244385, 3.200385332107544, 0.32089850306510925, 0.9662507772445679, 1.4777380228042603, 0.054810114204883575, 0.0929362028837204, 1.0447629690170288, 1.8460997343063354, 0.0, 1.2818137407302856, 0.0, 0.9045369029045105, 1.1600273847579956, 0.0, 1.9919291734695435, 0.12029442191123962, 0.0, 0.0, 0.0, 0.07915332168340683, 0.4009231925010681, 0.0, 0.00989375077188015, 0.07109864801168442, 0.057736631482839584, 0.6186800003051758, 0.0, 0.12919193506240845, 1.5601013898849487, 0.0, 0.1480209231376648, 0.1309378445148468, 0.0, 0.03041895478963852, 0.0, 1.8147269487380981, 0.5578009486198425, 0.018748024478554726, 0.0, 0.0, 0.0012799057876691222, 1.6616997718811035, 0.05639037489891052, 0.0, 0.17398543655872345, 1.2550153732299805, 0.8740839958190918, 0.44976505637168884, 0.0, 1.1162348985671997, 0.0, 0.0])"
     ]
    }
   ],
   "source": [
    "df.head()"
   ]
  },
  {
   "cell_type": "code",
   "execution_count": 24,
   "metadata": {},
   "outputs": [
    {
     "data": {
      "application/vnd.jupyter.widget-view+json": {
       "model_id": "",
       "version_major": 2,
       "version_minor": 0
      },
      "text/plain": [
       "FloatProgress(value=0.0, bar_style='info', description='Progress:', layout=Layout(height='25px', width='50%'),…"
      ]
     },
     "metadata": {},
     "output_type": "display_data"
    },
    {
     "name": "stdout",
     "output_type": "stream",
     "text": [
      "['path', 'label', 'features']"
     ]
    }
   ],
   "source": [
    "df.columns"
   ]
  },
  {
   "cell_type": "code",
   "execution_count": 25,
   "metadata": {},
   "outputs": [
    {
     "data": {
      "application/vnd.jupyter.widget-view+json": {
       "model_id": "",
       "version_major": 2,
       "version_minor": 0
      },
      "text/plain": [
       "FloatProgress(value=0.0, bar_style='info', description='Progress:', layout=Layout(height='25px', width='50%'),…"
      ]
     },
     "metadata": {},
     "output_type": "display_data"
    },
    {
     "name": "stdout",
     "output_type": "stream",
     "text": [
      "22688"
     ]
    }
   ],
   "source": [
    "df.count()"
   ]
  },
  {
   "cell_type": "code",
   "execution_count": 26,
   "metadata": {},
   "outputs": [
    {
     "data": {
      "application/vnd.jupyter.widget-view+json": {
       "model_id": "",
       "version_major": 2,
       "version_minor": 0
      },
      "text/plain": [
       "FloatProgress(value=0.0, bar_style='info', description='Progress:', layout=Layout(height='25px', width='50%'),…"
      ]
     },
     "metadata": {},
     "output_type": "display_data"
    },
    {
     "name": "stdout",
     "output_type": "stream",
     "text": [
      "root\n",
      " |-- path: string (nullable = true)\n",
      " |-- label: string (nullable = true)\n",
      " |-- features: array (nullable = true)\n",
      " |    |-- element: float (containsNull = true)\n",
      "\n",
      "None"
     ]
    }
   ],
   "source": [
    "print(df.printSchema())"
   ]
  },
  {
   "cell_type": "code",
   "execution_count": 27,
   "metadata": {},
   "outputs": [
    {
     "data": {
      "application/vnd.jupyter.widget-view+json": {
       "model_id": "",
       "version_major": 2,
       "version_minor": 0
      },
      "text/plain": [
       "FloatProgress(value=0.0, bar_style='info', description='Progress:', layout=Layout(height='25px', width='50%'),…"
      ]
     },
     "metadata": {},
     "output_type": "display_data"
    }
   ],
   "source": [
    "#df_pca = pd.read_parquet(PATH_Result + '/pca_results', engine='pyarrow')\n",
    "df_pca=spark.read.parquet(PATH_Result + \"/pca_results\")"
   ]
  },
  {
   "cell_type": "code",
   "execution_count": 28,
   "metadata": {},
   "outputs": [
    {
     "data": {
      "application/vnd.jupyter.widget-view+json": {
       "model_id": "",
       "version_major": 2,
       "version_minor": 0
      },
      "text/plain": [
       "FloatProgress(value=0.0, bar_style='info', description='Progress:', layout=Layout(height='25px', width='50%'),…"
      ]
     },
     "metadata": {},
     "output_type": "display_data"
    },
    {
     "name": "stdout",
     "output_type": "stream",
     "text": [
      "Row(path='s3://openclassrooms-p8-fruits-data/data/test/Watermelon/r_67_100.jpg', label='Watermelon', pca_features=DenseVector([-3.451, 5.4159, -5.3283, -4.8208, 5.9778, 5.4517, 2.1771, 0.2174, -9.5208, 0.0079, -2.0946, 2.9029, -1.7029, 6.3195, 0.1022, -0.0209, -4.8671, 0.4627, -0.6855, 5.3621, 0.3786, -0.0948, 6.3297, -1.4221, 0.9524, 0.6563, 1.3332, -3.4886, 1.2113, 1.5237, 2.8523, 0.6011, 1.84, -0.5275, -1.2889, -3.8125, -0.4837, -1.5041, -0.4523, -2.2355, 0.2967, 1.805, -0.3623, -0.2969, -3.2374, 0.2936, 1.1547, -1.9716, -0.8415, -2.4493]))"
     ]
    }
   ],
   "source": [
    "df_pca.head()"
   ]
  },
  {
   "cell_type": "code",
   "execution_count": 29,
   "metadata": {},
   "outputs": [
    {
     "data": {
      "application/vnd.jupyter.widget-view+json": {
       "model_id": "",
       "version_major": 2,
       "version_minor": 0
      },
      "text/plain": [
       "FloatProgress(value=0.0, bar_style='info', description='Progress:', layout=Layout(height='25px', width='50%'),…"
      ]
     },
     "metadata": {},
     "output_type": "display_data"
    },
    {
     "name": "stdout",
     "output_type": "stream",
     "text": [
      "root\n",
      " |-- path: string (nullable = true)\n",
      " |-- label: string (nullable = true)\n",
      " |-- pca_features: vector (nullable = true)\n",
      "\n",
      "None"
     ]
    }
   ],
   "source": [
    "print(df_pca.printSchema())"
   ]
  },
  {
   "cell_type": "code",
   "execution_count": 30,
   "metadata": {},
   "outputs": [
    {
     "data": {
      "application/vnd.jupyter.widget-view+json": {
       "model_id": "",
       "version_major": 2,
       "version_minor": 0
      },
      "text/plain": [
       "FloatProgress(value=0.0, bar_style='info', description='Progress:', layout=Layout(height='25px', width='50%'),…"
      ]
     },
     "metadata": {},
     "output_type": "display_data"
    },
    {
     "name": "stdout",
     "output_type": "stream",
     "text": [
      "['path', 'label', 'pca_features']"
     ]
    }
   ],
   "source": [
    "df_pca.columns"
   ]
  },
  {
   "cell_type": "code",
   "execution_count": 31,
   "metadata": {},
   "outputs": [
    {
     "data": {
      "application/vnd.jupyter.widget-view+json": {
       "model_id": "",
       "version_major": 2,
       "version_minor": 0
      },
      "text/plain": [
       "FloatProgress(value=0.0, bar_style='info', description='Progress:', layout=Layout(height='25px', width='50%'),…"
      ]
     },
     "metadata": {},
     "output_type": "display_data"
    },
    {
     "name": "stdout",
     "output_type": "stream",
     "text": [
      "22688"
     ]
    }
   ],
   "source": [
    "df_pca.count()"
   ]
  },
  {
   "cell_type": "code",
   "execution_count": null,
   "metadata": {},
   "outputs": [],
   "source": [
    "df_pca.to_csv(PATH_Result + \"pca_results/pca_matrix.csv\", sep=\";\")"
   ]
  },
  {
   "cell_type": "markdown",
   "metadata": {},
   "source": [
    "<u>We can also see the presence of files in \"**parquet**\" format on the **S3 server**</u>:\n",
    "\n",
    "![Affichage des résultats sur S3](img/S3_Results.png)\n",
    "\n",
    "##### 4.11 Track task progress with Spark History Server\n",
    "\n",
    "It is possible to see the progress of current tasks with the **Spark history server**.\n",
    "\n",
    "![Accès au serveur d'historique spark](img/EMR_serveur_historique_spark_acces.png)\n",
    "\n",
    "**It is also possible to come back and study the tasks that have been carried out, in order to debug and optimize future tasks to be carried out.**\n",
    "\n",
    "<u>When the command \"**features_df.write.mode(\"overwrite\").parquet(PATH_Result)**\" <br />\n",
    "was in progress, we could observe its progress:\n",
    "\n",
    "![Progression execution script](img/EMR_jupyterhub_avancement.png)\n",
    "\n",
    "<u>The **Spark history server** allows us a much more precise vision of the execution of the different tasks on the different machines in the cluster</u>:\n",
    "\n",
    "![Suivi des tâches spark](img/EMR_SHSpark_01.png)\n",
    "\n",
    "We can also see that our calculation cluster took a little **less than 10 minutes** to process the **22,688 images**.\n",
    "\n",
    "![Temps de traitement](img/EMR_SHSpark_02.png)\n"
   ]
  },
  {
   "cell_type": "markdown",
   "metadata": {},
   "source": [
    "##### 4.12. Termination of the EMR instance\n",
    "\n",
    "Our work is now complete. The EMR machine cluster is **billed on demand**, and we continue to be billed even when the machines are idle. To **optimize billing**, we now need to **terminate the cluster**.\n",
    "\n",
    "<u>I perform this command from the AWS interface</u>:\n",
    "\n",
    "1. Start by **disabling the ssh tunnel in FoxyProxy** to avoid **timeout** issues.\n",
    "![Désactivation de FoxyProxy](img/EMR_foxyproxy_desactivation.png)\n",
    "2. Click on “**Terminate**”\n",
    "![Cliquez sur Résilier](img/EMR_resiliation_01.png)\n",
    "3. Confirm termination\n",
    "![Confirmez la résiliation](img/EMR_resiliation_02.png)\n",
    "4. Termination takes approximately **1 minute**\n",
    "![Résiliation en cours](img/EMR_resiliation_03.png)\n",
    "5. Termination is carried out\n",
    "![Résiliation terminée](img/EMR_resiliation_04.png)\n",
    "\n",
    "##### 4.13 Clone the EMR server (if necessary)\n",
    "\n",
    "If we need to run our notebook again under the same conditions, we just need to **clone our cluster** and thus obtain a functional copy within 10 minutes, the time it takes to instantiate it.\n",
    "\n",
    "<u>There are two solutions for this</u>:\n",
    "1. <u>From the AWS interface</u>:\n",
    "    1. Click “**Clone**”\n",
    "    ![Cloner un cluster](img/EMR_cloner_01.png)\n",
    "    2. The cluster configuration is recreated identically.You can go back to the different steps if you want to make changes. When everything is ready, click on \"**Create cluster**\"\n",
    "    ![Vérification/Modification/Créer un cluster](img/EMR_cloner_02.png)\n",
    "2. <u>On the command line</u> (with AWS CLI installed and configured and making sure to grant the necessary rights to the AMI account used)\n",
    "    1. Click “**Export AWS CLI**”\n",
    "    ![Exporter AWS CLI](img/EMR_cloner_cli_01.png)\n",
    "    2. Copy/Paste the command **from a terminal**\n",
    "    ![Copier Coller Commande](img/EMR_cloner_cli_02.png)\n",
    "\n",
    "##### 4.14 S3 server tree at the end of the project\n",
    "<u>For information, here is **the complete tree structure of my S3 p8-data bucket** at the end of the project</u>: *For the sake of readability, I do not list the 131 subfolders in the \"Test\" directory \"*.\n",
    "\n",
    "1. Results/_SUCCESS\n",
    "1. Results/part-00000-2cc36f38-19ef-4d8a-a0d1-5ddb309b3894-c000.snappy.parquet\n",
    "1. Results/part-00001-2cc36f38-19ef-4d8a-a0d1-5ddb309b3894-c000.snappy.parquet\n",
    "1. Results/part-00002-2cc36f38-19ef-4d8a-a0d1-5ddb309b3894-c000.snappy.parquet\n",
    "1. Results/part-00003-2cc36f38-19ef-4d8a-a0d1-5ddb309b3894-c000.snappy.parquet\n",
    "1. Results/part-00004-2cc36f38-19ef-4d8a-a0d1-5ddb309b3894-c000.snappy.parquet\n",
    "1. Results/part-00005-2cc36f38-19ef-4d8a-a0d1-5ddb309b3894-c000.snappy.parquet\n",
    "1. Results/part-00006-2cc36f38-19ef-4d8a-a0d1-5ddb309b3894-c000.snappy.parquet\n",
    "1. Results/part-00007-2cc36f38-19ef-4d8a-a0d1-5ddb309b3894-c000.snappy.parquet\n",
    "1. Results/part-00008-2cc36f38-19ef-4d8a-a0d1-5ddb309b3894-c000.snappy.parquet\n",
    "1. Results/part-00009-2cc36f38-19ef-4d8a-a0d1-5ddb309b3894-c000.snappy.parquet\n",
    "1. Results/part-00010-2cc36f38-19ef-4d8a-a0d1-5ddb309b3894-c000.snappy.parquet\n",
    "1. Results/part-00011-2cc36f38-19ef-4d8a-a0d1-5ddb309b3894-c000.snappy.parquet\n",
    "1. Results/part-00012-2cc36f38-19ef-4d8a-a0d1-5ddb309b3894-c000.snappy.parquet\n",
    "1. Results/part-00013-2cc36f38-19ef-4d8a-a0d1-5ddb309b3894-c000.snappy.parquet\n",
    "1. Results/part-00014-2cc36f38-19ef-4d8a-a0d1-5ddb309b3894-c000.snappy.parquet\n",
    "1. Results/part-00015-2cc36f38-19ef-4d8a-a0d1-5ddb309b3894-c000.snappy.parquet\n",
    "1. Results/part-00016-2cc36f38-19ef-4d8a-a0d1-5ddb309b3894-c000.snappy.parquet\n",
    "1. Results/part-00017-2cc36f38-19ef-4d8a-a0d1-5ddb309b3894-c000.snappy.parquet\n",
    "1. Results/part-00018-2cc36f38-19ef-4d8a-a0d1-5ddb309b3894-c000.snappy.parquet\n",
    "1. Results/part-00019-2cc36f38-19ef-4d8a-a0d1-5ddb309b3894-c000.snappy.parquet\n",
    "1. Results/part-00020-2cc36f38-19ef-4d8a-a0d1-5ddb309b3894-c000.snappy.parquet\n",
    "1. Results/part-00021-2cc36f38-19ef-4d8a-a0d1-5ddb309b3894-c000.snappy.parquet\n",
    "1. Results/part-00022-2cc36f38-19ef-4d8a-a0d1-5ddb309b3894-c000.snappy.parquet\n",
    "1. Results/part-00023-2cc36f38-19ef-4d8a-a0d1-5ddb309b3894-c000.snappy.parquet\n",
    "1. Test/\n",
    "1. bootstrap-emr.sh\n",
    "1. jupyter-s3-conf.json\n",
    "1. jupyter/jovyan/.s3keep\n",
    "1. jupyter/jovyan/P8_01_Notebook.ipynb\n",
    "1. jupyter/jovyan/_metadata\n",
    "1. jupyter/jovyan/e-5OTY4VKPDT21945FF6DN15E35/.aws-editors-workspace-metadata/\n",
    "1. jupyter/jovyan/e-5OTY4VKPDT21945FF6DN15E35/.aws-editors-workspace-metadata/file-perm.sqlite\n",
    "1. jupyter/jovyan/e-5OTY4VKPDT21945FF6DN15E35/.aws-editors-workspace-metadata/nbconvert/\n",
    "1. jupyter/jovyan/e-5OTY4VKPDT21945FF6DN15E35/.aws-editors-workspace-metadata/nbconvert/templates/\n",
    "1. jupyter/jovyan/e-5OTY4VKPDT21945FF6DN15E35/.aws-editors-workspace-metadata/nbconvert/templates/html/\n",
    "1. jupyter/jovyan/e-5OTY4VKPDT21945FF6DN15E35/.aws-editors-workspace-metadata/nbconvert/templates/latex/\n",
    "1. jupyter/jovyan/e-5OTY4VKPDT21945FF6DN15E35/.aws-editors-workspace-metadata/nbsignatures.db\n",
    "1. jupyter/jovyan/e-5OTY4VKPDT21945FF6DN15E35/.aws-editors-workspace-metadata/notebook_secret\n",
    "1. jupyter/jovyan/e-5OTY4VKPDT21945FF6DN15E35/.ipynb_checkpoints/\n",
    "1. jupyter/jovyan/e-5OTY4VKPDT21945FF6DN15E35/.ipynb_checkpoints/Untitled-checkpoint.ipynb\n",
    "1. jupyter/jovyan/e-5OTY4VKPDT21945FF6DN15E35/.ipynb_checkpoints/Untitled1-checkpoint.ipynb\n",
    "1. jupyter/jovyan/e-5OTY4VKPDT21945FF6DN15E35/.ipynb_checkpoints/test3-checkpoint.ipynb\n",
    "1. jupyter/jovyan/e-5OTY4VKPDT21945FF6DN15E35/Untitled.ipynb\n",
    "1. jupyter/jovyan/e-5OTY4VKPDT21945FF6DN15E35/Untitled1.ipynb\n",
    "1. jupyter/jovyan/e-5OTY4VKPDT21945FF6DN15E35/test3.ipynb"
   ]
  },
  {
   "cell_type": "markdown",
   "metadata": {},
   "source": [
    "### 5. Conclusion\n",
    "\n",
    "We carried out this project **in two stages** taking into account the constraints imposed on us.\n",
    "\n",
    "We **initially developed our solution locally**. The <u>first phase</u> consisted of **installing the Spark working environment**. **Spark** has a parameter that allows us to work locally and thus allows us to **simulate shared computing** by considering **each core of a processor as an independent worker**. We worked on a more **small data set**, the idea was simply to **validate the correct functioning of the solution**.\n",
    "\n",
    "We have chosen to carry out **transfer learning** using the **MobileNetV2** model. This model was chosen for its **lightness** and its **speed of execution** as well as for the **low dimension of its output vector**.\n",
    "\n",
    "The results were saved on disk in several partitions in \"**parquet**\" format.\n",
    "\n",
    "<u>**The solution worked perfectly in local mode**</u>.\n",
    "\n",
    "The <u>second phase</u> consisted of creating a **real calculation cluster**. The objective was to be able to **anticipate a future increase in workload**.\n",
    "\n",
    "The best choice made was to use the service provider **Amazon Web Services** which allows us to **rent computing power on demand**, for a **completely acceptable cost**. This service is called **EC2** and is classified among the **Infrastructure As A Service** (IAAS) offers.\n",
    "\n",
    "We have gone further by using a higher level service (**Platform As A Service** PAAS) using the **EMR** service which allows us to instantiate several servers at once (one cluster)** on which we were able to request the installation and configuration of several programs and libraries necessary for our project such as **Spark**, **Hadoop**, **JupyterHub** as well as the **TensorFlow library **.\n",
    "\n",
    "In addition to being **quicker and more efficient to implement**, we have the **certainty of the correct functioning of the solution**, it having been previously validated by Amazon engineers.\n",
    "\n",
    "We were also able to install, without difficulty, **the necessary packages on all the machines in the cluster**.\n",
    "\n",
    "Finally, with very little modification, and even more simply, we were able to **run our notebook as we had done locally**. This time we executed the processing on **all the images in our \"Test\" folder**.\n",
    "\n",
    "We opted for the **Amazon S3** service to **store our project data**. S3 offers, at a low cost, all the conditions we need to efficiently store and use our data. The allocated space is potentially **unlimited**, but costs will depend on the space used.\n",
    "\n",
    "It will be **easy for us to cope with an increase in the workload** by simply **resizing** our cluster of machines (horizontally and/or vertically if necessary), the costs will increase accordingly but will remain significantly lower than the previous ones. costs generated by the purchase of equipment or the rental of dedicated servers."
   ]
  }
 ],
 "metadata": {
  "kernelspec": {
   "display_name": "Python 3",
   "language": "python",
   "name": "python3"
  },
  "language_info": {
   "codemirror_mode": {
    "name": "python",
    "version": 3
   },
   "file_extension": ".py",
   "mimetype": "text/x-python",
   "name": "python",
   "pygments_lexer": "python3",
   "version": "3.11.6"
  }
 },
 "nbformat": 4,
 "nbformat_minor": 2
}
